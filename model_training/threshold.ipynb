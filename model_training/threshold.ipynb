{
 "cells": [
  {
   "cell_type": "code",
   "execution_count": 99,
   "metadata": {},
   "outputs": [],
   "source": [
    "from cbir_helpers import gen_descriptors, match_images\n",
    "from file_processing import *\n",
    "import numpy as np\n",
    "import matplotlib.pyplot as plt\n",
    "import pandas as pd"
   ]
  },
  {
   "cell_type": "code",
   "execution_count": 72,
   "metadata": {},
   "outputs": [
    {
     "data": {
      "text/plain": [
       "<module 'cbir_helpers' from '/srv/app/cbir_helpers.py'>"
      ]
     },
     "execution_count": 72,
     "metadata": {},
     "output_type": "execute_result"
    }
   ],
   "source": [
    "import importlib\n",
    "import cbir_helpers\n",
    "importlib.reload(cbir_helpers)"
   ]
  },
  {
   "cell_type": "code",
   "execution_count": 90,
   "metadata": {},
   "outputs": [],
   "source": [
    "dataset_path = 'data/categories_castle_cafe/categories_blurred_photos_removed_multiple_hold_imgs_small_with_invalid/'\n",
    "DETECTOR_TYPE = 'orb'\n",
    "NO_CATS = 47\n",
    "NO_FEATURES = 450\n",
    "GREY = True"
   ]
  },
  {
   "cell_type": "code",
   "execution_count": 12,
   "metadata": {},
   "outputs": [
    {
     "name": "stdout",
     "output_type": "stream",
     "text": [
      "Time elapsed generating descriptors: 6.519867658615112\n"
     ]
    }
   ],
   "source": [
    "descriptors = cbir_helpers.gen_descriptors(dataset_path, DETECTOR_TYPE, NO_CATS, NO_FEATURES, GREY)"
   ]
  },
  {
   "cell_type": "code",
   "execution_count": 14,
   "metadata": {},
   "outputs": [
    {
     "name": "stdout",
     "output_type": "stream",
     "text": [
      "Time elapsed matching all images: 219.9692964553833\n"
     ]
    }
   ],
   "source": [
    "d = cbir_helpers.match_images('BF', descriptors)"
   ]
  },
  {
   "cell_type": "code",
   "execution_count": 19,
   "metadata": {},
   "outputs": [
    {
     "name": "stdout",
     "output_type": "stream",
     "text": [
      "Max correct: 210.0\n",
      "Min wrong: 82.0\n",
      "Total number of images: 363\n",
      "Number wrong: 22\n",
      "Number wrong below threshold: 21\n",
      "% wrong below max correct: 6.0%\n",
      "% wrong overall: 6.0%\n",
      "% wrong overall top 3: 5.0%\n"
     ]
    }
   ],
   "source": [
    "cbir_helpers.get_stats(d)"
   ]
  },
  {
   "cell_type": "code",
   "execution_count": 91,
   "metadata": {},
   "outputs": [],
   "source": [
    "d_wo_invalid = {k:v for k,v in d.items() if k.split('/')[0] != str(47)}"
   ]
  },
  {
   "cell_type": "code",
   "execution_count": 92,
   "metadata": {},
   "outputs": [],
   "source": [
    "min_dists = cbir_helpers.get_min_dists(d_wo_invalid)"
   ]
  },
  {
   "cell_type": "code",
   "execution_count": 93,
   "metadata": {},
   "outputs": [],
   "source": [
    "correct, wrong = cbir_helpers.find_correct_wrong_dists(min_dists)"
   ]
  },
  {
   "cell_type": "code",
   "execution_count": 94,
   "metadata": {},
   "outputs": [
    {
     "data": {
      "text/plain": [
       "137.0"
      ]
     },
     "execution_count": 94,
     "metadata": {},
     "output_type": "execute_result"
    }
   ],
   "source": [
    "max(correct)"
   ]
  },
  {
   "cell_type": "code",
   "execution_count": 95,
   "metadata": {},
   "outputs": [
    {
     "data": {
      "text/plain": [
       "82.0"
      ]
     },
     "execution_count": 95,
     "metadata": {},
     "output_type": "execute_result"
    }
   ],
   "source": [
    "min(wrong)"
   ]
  },
  {
   "cell_type": "code",
   "execution_count": 85,
   "metadata": {},
   "outputs": [],
   "source": [
    "def invalid_images_stats(d):\n",
    "    max_valids = []\n",
    "    min_invalids = []\n",
    "    all_invalid_dists = []\n",
    "    for img, dists_d in d.items():\n",
    "        if img.split('/')[0]!=str(47):  # we want to skip the bad images\n",
    "            valid_dists = []\n",
    "            invalid_dists = []\n",
    "            for imgname, dist in dists_d.items():\n",
    "                c = imgname.split('/')[0]\n",
    "                if int(c)<47:\n",
    "                    valid_dists.append(dist)\n",
    "                else:\n",
    "                    invalid_dists.append(dist)\n",
    "                    all_invalid_dists.append(dist)\n",
    "            max_valids.append(max(valid_dists))\n",
    "            min_invalids.append(min(invalid_dists))\n",
    "    return max_valids, min_invalids, all_invalid_dists"
   ]
  },
  {
   "cell_type": "code",
   "execution_count": 87,
   "metadata": {},
   "outputs": [],
   "source": [
    "max_valids, min_invalids, all_invalid_dists = invalid_images_stats(d)"
   ]
  },
  {
   "cell_type": "code",
   "execution_count": 127,
   "metadata": {},
   "outputs": [],
   "source": [
    "def analyse_wrong_threshold(correct, wrong, all_invalid_dists=None):\n",
    "    data = {}\n",
    "    for i in range(50, 230, 10):\n",
    "        perc_correct_missed = len([d for d in correct if d>i])/len(correct)\n",
    "        perc_wrong_admitted = len([d for d in wrong if d<i])/len(wrong)\n",
    "        data[str(i)] = [perc_correct_missed, perc_wrong_admitted]\n",
    "        columns = ['perc_correct_missed','perc_wrong_admitted']\n",
    "        if all_invalid_dists is not None:\n",
    "            perc_invalid_admitted = len([d for d in all_invalid_dists if d<i])/len(all_invalid_dists)\n",
    "            data[str(i)].append(perc_invalid_admitted)\n",
    "            columns.append('perc_invalid_admitted')\n",
    "    \n",
    "    data_df = pd.DataFrame.from_dict(data, orient='index', columns=columns)\n",
    "    display(data_df.plot())\n",
    "    \n",
    "    data = {}\n",
    "    for i in range(50, 170, 10):\n",
    "        count_correct_missed = len([d for d in correct if d>i])\n",
    "        count_wrong_admitted = len([d for d in wrong if d<i])\n",
    "        data[str(i)] = [count_correct_missed, count_wrong_admitted]\n",
    "        columns = ['count_correct_missed', 'count_wrong_admitted']\n",
    "        if all_invalid_dists is not None:\n",
    "            count_invalid_admitted = len([d for d in all_invalid_dists if d<i])\n",
    "            data[str(i)].append(count_invalid_admitted)\n",
    "            columns.append('count_invalid_admitted')\n",
    "    data_df = pd.DataFrame.from_dict(data, orient='index', columns=columns)\n",
    "    display(data_df.plot())"
   ]
  },
  {
   "cell_type": "code",
   "execution_count": 128,
   "metadata": {},
   "outputs": [
    {
     "data": {
      "text/plain": [
       "<matplotlib.axes._subplots.AxesSubplot at 0x7f91fc31f0f0>"
      ]
     },
     "metadata": {},
     "output_type": "display_data"
    },
    {
     "data": {
      "text/plain": [
       "<matplotlib.axes._subplots.AxesSubplot at 0x7f91fc3f5438>"
      ]
     },
     "metadata": {},
     "output_type": "display_data"
    },
    {
     "data": {
      "image/png": "[encoded data removed]",
      "text/plain": [
       "<Figure size 432x288 with 1 Axes>"
      ]
     },
     "metadata": {
      "needs_background": "light"
     },
     "output_type": "display_data"
    },
    {
     "data": {
      "image/png": "[encoded data removed]",
      "text/plain": [
       "<Figure size 432x288 with 1 Axes>"
      ]
     },
     "metadata": {
      "needs_background": "light"
     },
     "output_type": "display_data"
    }
   ],
   "source": [
    "analyse_wrong_threshold(correct, wrong, all_invalid_dists)"
   ]
  },
  {
   "cell_type": "markdown",
   "metadata": {},
   "source": [
    "From this, I conclude that non match threshodl should be 137, to maximise correct matches and this only admits 1 wrong match with valid images and 1 wrong match with invalid. "
   ]
  },
  {
   "cell_type": "markdown",
   "metadata": {},
   "source": [
    "### Test set (Yonder)"
   ]
  },
  {
   "cell_type": "markdown",
   "metadata": {},
   "source": [
    "The steps would be to match with Yonder and I would expect to see few incorrect matches under 137, and get all correct matches. \n",
    "\n",
    "However I know that images from Yonder are a bit different..."
   ]
  },
  {
   "cell_type": "code",
   "execution_count": 118,
   "metadata": {},
   "outputs": [],
   "source": [
    "dataset_path = 'data/categories_yonder_cbir_small'\n",
    "DETECTOR_TYPE = 'orb'\n",
    "NO_CATS = 38\n",
    "NO_FEATURES = 450\n",
    "GREY = True"
   ]
  },
  {
   "cell_type": "code",
   "execution_count": 119,
   "metadata": {},
   "outputs": [
    {
     "name": "stdout",
     "output_type": "stream",
     "text": [
      "Time elapsed generating descriptors: 2.634906053543091\n"
     ]
    }
   ],
   "source": [
    "descriptors = cbir_helpers.gen_descriptors(dataset_path, DETECTOR_TYPE, NO_CATS, NO_FEATURES, GREY)"
   ]
  },
  {
   "cell_type": "code",
   "execution_count": 120,
   "metadata": {},
   "outputs": [
    {
     "data": {
      "text/plain": [
       "137"
      ]
     },
     "execution_count": 120,
     "metadata": {},
     "output_type": "execute_result"
    }
   ],
   "source": [
    "len(list(descriptors.keys()))"
   ]
  },
  {
   "cell_type": "code",
   "execution_count": 121,
   "metadata": {},
   "outputs": [
    {
     "name": "stdout",
     "output_type": "stream",
     "text": [
      "Time elapsed matching all images: 30.658841609954834\n"
     ]
    }
   ],
   "source": [
    "d = cbir_helpers.match_images('BF', descriptors)"
   ]
  },
  {
   "cell_type": "code",
   "execution_count": 122,
   "metadata": {},
   "outputs": [
    {
     "name": "stdout",
     "output_type": "stream",
     "text": [
      "Max correct: 141.0\n",
      "Min wrong: 51.0\n",
      "Total number of images: 137\n",
      "Number wrong: 21\n",
      "Number wrong below threshold: 21\n",
      "% wrong below max correct: 15.0%\n",
      "% wrong overall: 15.0%\n",
      "% wrong overall top 3: 3.0%\n"
     ]
    }
   ],
   "source": [
    "cbir_helpers.get_stats(d)"
   ]
  },
  {
   "cell_type": "code",
   "execution_count": 123,
   "metadata": {},
   "outputs": [],
   "source": [
    "min_dists = cbir_helpers.get_min_dists(d)"
   ]
  },
  {
   "cell_type": "code",
   "execution_count": 124,
   "metadata": {},
   "outputs": [],
   "source": [
    "correct, wrong = cbir_helpers.find_correct_wrong_dists(min_dists)"
   ]
  },
  {
   "cell_type": "code",
   "execution_count": 125,
   "metadata": {},
   "outputs": [
    {
     "data": {
      "text/plain": [
       "141.0"
      ]
     },
     "execution_count": 125,
     "metadata": {},
     "output_type": "execute_result"
    }
   ],
   "source": [
    "max(correct)"
   ]
  },
  {
   "cell_type": "code",
   "execution_count": 132,
   "metadata": {},
   "outputs": [
    {
     "data": {
      "text/plain": [
       "[141.0]"
      ]
     },
     "execution_count": 132,
     "metadata": {},
     "output_type": "execute_result"
    }
   ],
   "source": [
    "[c for c in correct if c > 137]"
   ]
  },
  {
   "cell_type": "code",
   "execution_count": 126,
   "metadata": {},
   "outputs": [
    {
     "data": {
      "text/plain": [
       "51.0"
      ]
     },
     "execution_count": 126,
     "metadata": {},
     "output_type": "execute_result"
    }
   ],
   "source": [
    "min(wrong)"
   ]
  },
  {
   "cell_type": "code",
   "execution_count": 129,
   "metadata": {},
   "outputs": [
    {
     "data": {
      "text/plain": [
       "<matplotlib.axes._subplots.AxesSubplot at 0x7f91fc394240>"
      ]
     },
     "metadata": {},
     "output_type": "display_data"
    },
    {
     "data": {
      "text/plain": [
       "<matplotlib.axes._subplots.AxesSubplot at 0x7f921c44d940>"
      ]
     },
     "metadata": {},
     "output_type": "display_data"
    },
    {
     "data": {
      "image/png": "[encoded data removed]",
      "text/plain": [
       "<Figure size 432x288 with 1 Axes>"
      ]
     },
     "metadata": {
      "needs_background": "light"
     },
     "output_type": "display_data"
    },
    {
     "data": {
      "image/png": "[encoded data removed]",
      "text/plain": [
       "<Figure size 432x288 with 1 Axes>"
      ]
     },
     "metadata": {
      "needs_background": "light"
     },
     "output_type": "display_data"
    }
   ],
   "source": [
    "analyse_wrong_threshold(correct, wrong)"
   ]
  },
  {
   "cell_type": "markdown",
   "metadata": {},
   "source": [
    "For this dataset the threshold does not remove any wrong matches. But I know that those \"wrong\" matches are because that hold physically appeared in the another route's image. So you cant' blame it. \n",
    "\n",
    "On the correct side, only 1 correct match is prevented - not too bad."
   ]
  }
 ],
 "metadata": {
  "kernelspec": {
   "display_name": "Python 3",
   "language": "python",
   "name": "python3"
  },
  "language_info": {
   "codemirror_mode": {
    "name": "ipython",
    "version": 3
   },
   "file_extension": ".py",
   "mimetype": "text/x-python",
   "name": "python",
   "nbconvert_exporter": "python",
   "pygments_lexer": "ipython3",
   "version": "3.6.8"
  }
 },
 "nbformat": 4,
 "nbformat_minor": 4
}
