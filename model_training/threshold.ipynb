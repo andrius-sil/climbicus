{
 "cells": [
  {
   "cell_type": "code",
   "execution_count": 1,
   "metadata": {},
   "outputs": [],
   "source": [
    "from cbir_helpers import gen_descriptors, match_images\n",
    "from file_processing import *\n",
    "import numpy as np\n",
    "import matplotlib.pyplot as plt\n",
    "import pandas as pd"
   ]
  },
  {
   "cell_type": "code",
   "execution_count": 18,
   "metadata": {},
   "outputs": [
    {
     "data": {
      "text/plain": [
       "<module 'cbir_helpers' from '/srv/app/cbir_helpers.py'>"
      ]
     },
     "execution_count": 18,
     "metadata": {},
     "output_type": "execute_result"
    }
   ],
   "source": [
    "import importlib\n",
    "import cbir_helpers\n",
    "importlib.reload(cbir_helpers)"
   ]
  },
  {
   "cell_type": "code",
   "execution_count": 50,
   "metadata": {},
   "outputs": [],
   "source": [
    "def distinct(seq):\n",
    "    # distinct elements in list preserving order\n",
    "    seen = set()\n",
    "    seen_add = seen.add\n",
    "    return [x for x in seq if not (x.split('/')[0] in seen or seen_add(x.split('/')[0]))]"
   ]
  },
  {
   "cell_type": "code",
   "execution_count": 90,
   "metadata": {},
   "outputs": [],
   "source": [
    "def get_top_n_dists(d, n=3):\n",
    "    correct_firsts = []\n",
    "    wrong_match_dists = []\n",
    "    for c_f, v in d.items():\n",
    "        s = sorted(v, key=v.get)\n",
    "        distinct_s = distinct(s)\n",
    "        correct_firsts.append(v[distinct_s[0]])\n",
    "        wrong_match_dists.append([v[x] for x in distinct_s[1:n]])\n",
    "    return correct_firsts, wrong_match_dists"
   ]
  },
  {
   "cell_type": "code",
   "execution_count": 91,
   "metadata": {},
   "outputs": [],
   "source": [
    "correct_firsts, wrong_match_dists = get_top_n_dists(d)"
   ]
  },
  {
   "cell_type": "code",
   "execution_count": 93,
   "metadata": {},
   "outputs": [
    {
     "data": {
      "text/plain": [
       "363"
      ]
     },
     "execution_count": 93,
     "metadata": {},
     "output_type": "execute_result"
    }
   ],
   "source": [
    "len(correct_firsts)"
   ]
  },
  {
   "cell_type": "code",
   "execution_count": 94,
   "metadata": {},
   "outputs": [
    {
     "data": {
      "text/plain": [
       "363"
      ]
     },
     "execution_count": 94,
     "metadata": {},
     "output_type": "execute_result"
    }
   ],
   "source": [
    "len(wrong_match_dists)"
   ]
  },
  {
   "cell_type": "code",
   "execution_count": 98,
   "metadata": {},
   "outputs": [
    {
     "data": {
      "text/plain": [
       "False"
      ]
     },
     "execution_count": 98,
     "metadata": {},
     "output_type": "execute_result"
    }
   ],
   "source": [
    "any([98.0, 133.0])>100"
   ]
  },
  {
   "cell_type": "code",
   "execution_count": 100,
   "metadata": {},
   "outputs": [
    {
     "data": {
      "text/plain": [
       "False"
      ]
     },
     "execution_count": 100,
     "metadata": {},
     "output_type": "execute_result"
    }
   ],
   "source": [
    "any(i>137 for i in [98.0, 133.0])"
   ]
  },
  {
   "cell_type": "code",
   "execution_count": 101,
   "metadata": {
    "collapsed": true,
    "jupyter": {
     "outputs_hidden": true
    }
   },
   "outputs": [
    {
     "data": {
      "text/plain": [
       "[[120.0, 139.0],\n",
       " [114.0, 139.0],\n",
       " [117.0, 140.0],\n",
       " [143.0, 143.0],\n",
       " [126.0, 161.0],\n",
       " [142.0, 146.0],\n",
       " [151.0, 153.0],\n",
       " [167.0, 168.0],\n",
       " [177.0, 182.0],\n",
       " [128.0, 157.0],\n",
       " [159.0, 164.0],\n",
       " [129.0, 156.0],\n",
       " [152.0, 155.0],\n",
       " [163.0, 164.0],\n",
       " [169.0, 171.0],\n",
       " [129.0, 146.0],\n",
       " [136.0, 149.0],\n",
       " [138.0, 169.0],\n",
       " [148.0, 160.0],\n",
       " [125.0, 157.0],\n",
       " [144.0, 167.0],\n",
       " [158.0, 176.0],\n",
       " [126.0, 149.0],\n",
       " [175.0, 175.0],\n",
       " [163.0, 182.0],\n",
       " [103.0, 173.0],\n",
       " [163.0, 174.0],\n",
       " [180.0, 181.0],\n",
       " [162.0, 169.0],\n",
       " [172.0, 172.0],\n",
       " [162.0, 167.0],\n",
       " [171.0, 172.0],\n",
       " [175.0, 182.0],\n",
       " [156.0, 170.0],\n",
       " [163.0, 177.0],\n",
       " [163.0, 178.0],\n",
       " [157.0, 159.0],\n",
       " [144.0, 150.0],\n",
       " [150.0, 152.0],\n",
       " [154.0, 162.0],\n",
       " [146.0, 147.0],\n",
       " [154.0, 154.0],\n",
       " [156.0, 157.0],\n",
       " [165.0, 165.0],\n",
       " [140.0, 152.0],\n",
       " [159.0, 160.0],\n",
       " [169.0, 172.0],\n",
       " [145.0, 178.0],\n",
       " [170.0, 174.0],\n",
       " [148.0, 152.0],\n",
       " [126.0, 148.0],\n",
       " [164.0, 171.0],\n",
       " [155.0, 171.0],\n",
       " [151.0, 158.0],\n",
       " [126.0, 139.0],\n",
       " [136.0, 145.0],\n",
       " [147.0, 148.0],\n",
       " [135.0, 139.0],\n",
       " [155.0, 156.0],\n",
       " [152.0, 178.0],\n",
       " [143.0, 152.0],\n",
       " [131.0, 163.0],\n",
       " [162.0, 162.0],\n",
       " [170.0, 185.0],\n",
       " [154.0, 180.0],\n",
       " [141.0, 190.0],\n",
       " [132.0, 156.0],\n",
       " [174.0, 191.0],\n",
       " [139.0, 171.0],\n",
       " [150.0, 160.0],\n",
       " [128.0, 195.0],\n",
       " [159.0, 166.0],\n",
       " [117.0, 162.0],\n",
       " [148.0, 167.0],\n",
       " [160.0, 160.0],\n",
       " [172.0, 177.0],\n",
       " [148.0, 179.0],\n",
       " [164.0, 167.0],\n",
       " [174.0, 178.0],\n",
       " [117.0, 161.0],\n",
       " [160.0, 162.0],\n",
       " [174.0, 178.0],\n",
       " [166.0, 178.0],\n",
       " [172.0, 172.0],\n",
       " [164.0, 164.0],\n",
       " [181.0, 183.0],\n",
       " [169.0, 171.0],\n",
       " [176.0, 179.0],\n",
       " [152.0, 164.0],\n",
       " [153.0, 159.0],\n",
       " [150.0, 153.0],\n",
       " [157.0, 157.0],\n",
       " [150.0, 156.0],\n",
       " [132.0, 144.0],\n",
       " [153.0, 157.0],\n",
       " [150.0, 155.0],\n",
       " [153.0, 153.0],\n",
       " [155.0, 158.0],\n",
       " [107.0, 146.0],\n",
       " [76.0, 150.0],\n",
       " [132.0, 143.0],\n",
       " [148.0, 154.0],\n",
       " [152.0, 159.0],\n",
       " [144.0, 151.0],\n",
       " [146.0, 147.0],\n",
       " [69.0, 159.0],\n",
       " [116.0, 159.0],\n",
       " [125.0, 167.0],\n",
       " [133.0, 145.0],\n",
       " [91.0, 168.0],\n",
       " [104.0, 145.0],\n",
       " [76.0, 168.0],\n",
       " [86.0, 162.0],\n",
       " [95.0, 162.0],\n",
       " [69.0, 163.0],\n",
       " [140.0, 142.0],\n",
       " [147.0, 151.0],\n",
       " [131.0, 140.0],\n",
       " [149.0, 159.0],\n",
       " [148.0, 149.0],\n",
       " [160.0, 165.0],\n",
       " [133.0, 147.0],\n",
       " [143.0, 144.0],\n",
       " [157.0, 160.0],\n",
       " [143.0, 149.0],\n",
       " [161.0, 162.0],\n",
       " [157.0, 166.0],\n",
       " [184.0, 185.0],\n",
       " [156.0, 167.0],\n",
       " [161.0, 164.0],\n",
       " [148.0, 161.0],\n",
       " [165.0, 167.0],\n",
       " [164.0, 165.0],\n",
       " [150.0, 155.0],\n",
       " [138.0, 140.0],\n",
       " [161.0, 176.0],\n",
       " [160.0, 161.0],\n",
       " [163.0, 171.0],\n",
       " [161.0, 164.0],\n",
       " [161.0, 161.0],\n",
       " [157.0, 158.0],\n",
       " [154.0, 160.0],\n",
       " [158.0, 161.0],\n",
       " [164.0, 168.0],\n",
       " [160.0, 162.0],\n",
       " [145.0, 156.0],\n",
       " [160.0, 165.0],\n",
       " [166.0, 171.0],\n",
       " [167.0, 169.0],\n",
       " [159.0, 170.0],\n",
       " [174.0, 174.0],\n",
       " [167.0, 168.0],\n",
       " [142.0, 163.0],\n",
       " [97.0, 155.0],\n",
       " [120.0, 143.0],\n",
       " [144.0, 150.0],\n",
       " [137.0, 143.0],\n",
       " [114.0, 144.0],\n",
       " [106.0, 139.0],\n",
       " [117.0, 151.0],\n",
       " [114.0, 149.0],\n",
       " [164.0, 166.0],\n",
       " [136.0, 140.0],\n",
       " [152.0, 160.0],\n",
       " [121.0, 140.0],\n",
       " [141.0, 147.0],\n",
       " [144.0, 147.0],\n",
       " [131.0, 145.0],\n",
       " [126.0, 142.0],\n",
       " [137.0, 146.0],\n",
       " [159.0, 167.0],\n",
       " [157.0, 173.0],\n",
       " [147.0, 159.0],\n",
       " [163.0, 167.0],\n",
       " [165.0, 166.0],\n",
       " [162.0, 168.0],\n",
       " [172.0, 181.0],\n",
       " [163.0, 165.0],\n",
       " [159.0, 171.0],\n",
       " [145.0, 162.0],\n",
       " [122.0, 140.0],\n",
       " [168.0, 172.0],\n",
       " [146.0, 152.0],\n",
       " [138.0, 176.0],\n",
       " [171.0, 172.0],\n",
       " [106.0, 156.0],\n",
       " [128.0, 144.0],\n",
       " [147.0, 152.0],\n",
       " [151.0, 158.0],\n",
       " [151.0, 153.0],\n",
       " [144.0, 144.0],\n",
       " [140.0, 144.0],\n",
       " [139.0, 147.0],\n",
       " [132.0, 146.0],\n",
       " [145.0, 146.0],\n",
       " [139.0, 146.0],\n",
       " [140.0, 142.0],\n",
       " [139.0, 142.0],\n",
       " [151.0, 154.0],\n",
       " [138.0, 146.0],\n",
       " [144.0, 151.0],\n",
       " [142.0, 160.0],\n",
       " [106.0, 148.0],\n",
       " [173.0, 175.0],\n",
       " [168.0, 171.0],\n",
       " [167.0, 175.0],\n",
       " [172.0, 174.0],\n",
       " [172.0, 178.0],\n",
       " [162.0, 162.0],\n",
       " [163.0, 177.0],\n",
       " [158.0, 159.0],\n",
       " [164.0, 168.0],\n",
       " [162.0, 165.0],\n",
       " [192.0, 209.0],\n",
       " [200.0, 212.0],\n",
       " [204.0, 206.0],\n",
       " [135.0, 144.0],\n",
       " [129.0, 138.0],\n",
       " [154.0, 157.0],\n",
       " [143.0, 150.0],\n",
       " [148.0, 148.0],\n",
       " [141.0, 145.0],\n",
       " [158.0, 158.0],\n",
       " [186.0, 188.0],\n",
       " [158.0, 158.0],\n",
       " [176.0, 177.0],\n",
       " [179.0, 186.0],\n",
       " [194.0, 196.0],\n",
       " [207.0, 209.0],\n",
       " [218.0, 219.0],\n",
       " [156.0, 156.0],\n",
       " [154.0, 161.0],\n",
       " [147.0, 148.0],\n",
       " [145.0, 153.0],\n",
       " [146.0, 150.0],\n",
       " [117.0, 153.0],\n",
       " [94.0, 169.0],\n",
       " [82.0, 153.0],\n",
       " [105.0, 146.0],\n",
       " [160.0, 166.0],\n",
       " [141.0, 156.0],\n",
       " [174.0, 176.0],\n",
       " [141.0, 151.0],\n",
       " [158.0, 162.0],\n",
       " [157.0, 160.0],\n",
       " [155.0, 159.0],\n",
       " [142.0, 144.0],\n",
       " [156.0, 157.0],\n",
       " [163.0, 172.0],\n",
       " [154.0, 158.0],\n",
       " [157.0, 162.0],\n",
       " [157.0, 159.0],\n",
       " [144.0, 152.0],\n",
       " [196.0, 206.0],\n",
       " [139.0, 141.0],\n",
       " [142.0, 146.0],\n",
       " [154.0, 155.0],\n",
       " [150.0, 154.0],\n",
       " [142.0, 144.0],\n",
       " [141.0, 151.0],\n",
       " [146.0, 152.0],\n",
       " [147.0, 153.0],\n",
       " [142.0, 143.0],\n",
       " [149.0, 160.0],\n",
       " [141.0, 151.0],\n",
       " [148.0, 151.0],\n",
       " [173.0, 187.0],\n",
       " [148.0, 151.0],\n",
       " [147.0, 170.0],\n",
       " [142.0, 146.0],\n",
       " [177.0, 180.0],\n",
       " [82.0, 143.0],\n",
       " [143.0, 146.0],\n",
       " [74.0, 144.0],\n",
       " [160.0, 161.0],\n",
       " [151.0, 153.0],\n",
       " [158.0, 158.0],\n",
       " [80.0, 141.0],\n",
       " [150.0, 152.0],\n",
       " [124.0, 140.0],\n",
       " [136.0, 140.0],\n",
       " [137.0, 138.0],\n",
       " [157.0, 165.0],\n",
       " [162.0, 163.0],\n",
       " [146.0, 148.0],\n",
       " [146.0, 151.0],\n",
       " [145.0, 146.0],\n",
       " [221.0, 222.0],\n",
       " [217.0, 224.0],\n",
       " [205.0, 210.0],\n",
       " [202.0, 204.0],\n",
       " [164.0, 166.0],\n",
       " [189.0, 195.0],\n",
       " [161.0, 162.0],\n",
       " [135.0, 144.0],\n",
       " [185.0, 189.0],\n",
       " [193.0, 195.0],\n",
       " [162.0, 168.0],\n",
       " [162.0, 176.0],\n",
       " [185.0, 187.0],\n",
       " [190.0, 199.0],\n",
       " [188.0, 190.0],\n",
       " [195.0, 201.0],\n",
       " [173.0, 175.0],\n",
       " [198.0, 202.0],\n",
       " [178.0, 178.0],\n",
       " [176.0, 179.0],\n",
       " [160.0, 161.0],\n",
       " [171.0, 176.0],\n",
       " [153.0, 159.0],\n",
       " [193.0, 193.0],\n",
       " [178.0, 181.0],\n",
       " [184.0, 187.0],\n",
       " [196.0, 197.0],\n",
       " [160.0, 160.0],\n",
       " [187.0, 189.0],\n",
       " [168.0, 176.0],\n",
       " [193.0, 197.0],\n",
       " [152.0, 158.0],\n",
       " [219.0, 224.0],\n",
       " [197.0, 204.0],\n",
       " [197.0, 199.0],\n",
       " [197.0, 202.0],\n",
       " [187.0, 187.0],\n",
       " [174.0, 177.0],\n",
       " [190.0, 197.0],\n",
       " [192.0, 200.0],\n",
       " [206.0, 210.0],\n",
       " [207.0, 210.0]]"
      ]
     },
     "execution_count": 101,
     "metadata": {},
     "output_type": "execute_result"
    }
   ],
   "source": [
    "[i for i in wrong_match_dists if any(j>137 for j in i)]"
   ]
  },
  {
   "cell_type": "code",
   "execution_count": 95,
   "metadata": {
    "collapsed": true,
    "jupyter": {
     "outputs_hidden": true
    }
   },
   "outputs": [
    {
     "data": {
      "text/plain": [
       "[[98.0, 133.0],\n",
       " [129.0, 131.0],\n",
       " [120.0, 139.0],\n",
       " [97.0, 123.0],\n",
       " [97.0, 132.0],\n",
       " [110.0, 134.0],\n",
       " [114.0, 139.0],\n",
       " [117.0, 140.0],\n",
       " [103.0, 137.0],\n",
       " [143.0, 143.0],\n",
       " [124.0, 125.0],\n",
       " [126.0, 161.0],\n",
       " [142.0, 146.0],\n",
       " [151.0, 153.0],\n",
       " [167.0, 168.0],\n",
       " [177.0, 182.0],\n",
       " [128.0, 157.0],\n",
       " [159.0, 164.0],\n",
       " [129.0, 156.0],\n",
       " [152.0, 155.0],\n",
       " [163.0, 164.0],\n",
       " [169.0, 171.0],\n",
       " [129.0, 146.0],\n",
       " [136.0, 149.0],\n",
       " [138.0, 169.0],\n",
       " [148.0, 160.0],\n",
       " [125.0, 157.0],\n",
       " [144.0, 167.0],\n",
       " [158.0, 176.0],\n",
       " [126.0, 149.0],\n",
       " [175.0, 175.0],\n",
       " [163.0, 182.0],\n",
       " [103.0, 173.0],\n",
       " [163.0, 174.0],\n",
       " [180.0, 181.0],\n",
       " [162.0, 169.0],\n",
       " [172.0, 172.0],\n",
       " [162.0, 167.0],\n",
       " [171.0, 172.0],\n",
       " [175.0, 182.0],\n",
       " [156.0, 170.0],\n",
       " [163.0, 177.0],\n",
       " [163.0, 178.0],\n",
       " [157.0, 159.0],\n",
       " [144.0, 150.0],\n",
       " [150.0, 152.0],\n",
       " [154.0, 162.0],\n",
       " [146.0, 147.0],\n",
       " [154.0, 154.0],\n",
       " [156.0, 157.0],\n",
       " [165.0, 165.0],\n",
       " [140.0, 152.0],\n",
       " [159.0, 160.0],\n",
       " [126.0, 128.0],\n",
       " [169.0, 172.0],\n",
       " [145.0, 178.0],\n",
       " [170.0, 174.0],\n",
       " [148.0, 152.0],\n",
       " [126.0, 148.0],\n",
       " [164.0, 171.0],\n",
       " [155.0, 171.0],\n",
       " [151.0, 158.0],\n",
       " [126.0, 139.0],\n",
       " [87.0, 128.0],\n",
       " [118.0, 123.0],\n",
       " [136.0, 145.0],\n",
       " [97.0, 124.0],\n",
       " [147.0, 148.0],\n",
       " [130.0, 131.0],\n",
       " [135.0, 139.0],\n",
       " [107.0, 125.0],\n",
       " [117.0, 123.0],\n",
       " [155.0, 156.0],\n",
       " [152.0, 178.0],\n",
       " [143.0, 152.0],\n",
       " [131.0, 163.0],\n",
       " [162.0, 162.0],\n",
       " [170.0, 185.0],\n",
       " [154.0, 180.0],\n",
       " [141.0, 190.0],\n",
       " [132.0, 156.0],\n",
       " [174.0, 191.0],\n",
       " [139.0, 171.0],\n",
       " [150.0, 160.0],\n",
       " [128.0, 195.0],\n",
       " [159.0, 166.0],\n",
       " [117.0, 162.0],\n",
       " [148.0, 167.0],\n",
       " [160.0, 160.0],\n",
       " [172.0, 177.0],\n",
       " [148.0, 179.0],\n",
       " [164.0, 167.0],\n",
       " [174.0, 178.0],\n",
       " [117.0, 161.0],\n",
       " [160.0, 162.0],\n",
       " [174.0, 178.0],\n",
       " [166.0, 178.0],\n",
       " [172.0, 172.0],\n",
       " [164.0, 164.0],\n",
       " [181.0, 183.0],\n",
       " [169.0, 171.0],\n",
       " [176.0, 179.0],\n",
       " [152.0, 164.0],\n",
       " [153.0, 159.0],\n",
       " [150.0, 153.0],\n",
       " [157.0, 157.0],\n",
       " [150.0, 156.0],\n",
       " [132.0, 144.0],\n",
       " [153.0, 157.0],\n",
       " [150.0, 155.0],\n",
       " [153.0, 153.0],\n",
       " [155.0, 158.0],\n",
       " [107.0, 146.0],\n",
       " [76.0, 150.0],\n",
       " [132.0, 143.0],\n",
       " [148.0, 154.0],\n",
       " [152.0, 159.0],\n",
       " [144.0, 151.0],\n",
       " [146.0, 147.0],\n",
       " [69.0, 159.0],\n",
       " [116.0, 159.0],\n",
       " [82.0, 133.0],\n",
       " [125.0, 167.0],\n",
       " [133.0, 145.0],\n",
       " [91.0, 168.0],\n",
       " [104.0, 145.0],\n",
       " [76.0, 168.0],\n",
       " [86.0, 162.0],\n",
       " [95.0, 162.0],\n",
       " [69.0, 163.0],\n",
       " [140.0, 142.0],\n",
       " [147.0, 151.0],\n",
       " [131.0, 140.0],\n",
       " [149.0, 159.0],\n",
       " [148.0, 149.0],\n",
       " [160.0, 165.0],\n",
       " [133.0, 147.0],\n",
       " [143.0, 144.0],\n",
       " [157.0, 160.0],\n",
       " [143.0, 149.0],\n",
       " [161.0, 162.0],\n",
       " [157.0, 166.0],\n",
       " [184.0, 185.0],\n",
       " [156.0, 167.0],\n",
       " [161.0, 164.0],\n",
       " [148.0, 161.0],\n",
       " [165.0, 167.0],\n",
       " [164.0, 165.0],\n",
       " [150.0, 155.0],\n",
       " [138.0, 140.0],\n",
       " [161.0, 176.0],\n",
       " [160.0, 161.0],\n",
       " [124.0, 132.0],\n",
       " [163.0, 171.0],\n",
       " [161.0, 164.0],\n",
       " [161.0, 161.0],\n",
       " [157.0, 158.0],\n",
       " [154.0, 160.0],\n",
       " [158.0, 161.0],\n",
       " [164.0, 168.0],\n",
       " [131.0, 132.0],\n",
       " [160.0, 162.0],\n",
       " [145.0, 156.0],\n",
       " [160.0, 165.0],\n",
       " [166.0, 171.0],\n",
       " [167.0, 169.0],\n",
       " [159.0, 170.0],\n",
       " [174.0, 174.0],\n",
       " [167.0, 168.0],\n",
       " [142.0, 163.0],\n",
       " [97.0, 155.0],\n",
       " [120.0, 143.0],\n",
       " [144.0, 150.0],\n",
       " [137.0, 143.0],\n",
       " [114.0, 144.0],\n",
       " [106.0, 139.0],\n",
       " [117.0, 151.0],\n",
       " [114.0, 149.0],\n",
       " [164.0, 166.0],\n",
       " [123.0, 132.0],\n",
       " [136.0, 140.0],\n",
       " [152.0, 160.0],\n",
       " [129.0, 133.0],\n",
       " [121.0, 140.0],\n",
       " [141.0, 147.0],\n",
       " [144.0, 147.0],\n",
       " [131.0, 145.0],\n",
       " [126.0, 142.0],\n",
       " [137.0, 146.0],\n",
       " [159.0, 167.0],\n",
       " [157.0, 173.0],\n",
       " [147.0, 159.0],\n",
       " [163.0, 167.0],\n",
       " [165.0, 166.0],\n",
       " [162.0, 168.0],\n",
       " [172.0, 181.0],\n",
       " [163.0, 165.0],\n",
       " [159.0, 171.0],\n",
       " [145.0, 162.0],\n",
       " [122.0, 140.0],\n",
       " [168.0, 172.0],\n",
       " [146.0, 152.0],\n",
       " [138.0, 176.0],\n",
       " [171.0, 172.0],\n",
       " [106.0, 156.0],\n",
       " [128.0, 144.0],\n",
       " [147.0, 152.0],\n",
       " [151.0, 158.0],\n",
       " [151.0, 153.0],\n",
       " [144.0, 144.0],\n",
       " [140.0, 144.0],\n",
       " [139.0, 147.0],\n",
       " [132.0, 146.0],\n",
       " [145.0, 146.0],\n",
       " [139.0, 146.0],\n",
       " [140.0, 142.0],\n",
       " [139.0, 142.0],\n",
       " [151.0, 154.0],\n",
       " [138.0, 146.0],\n",
       " [144.0, 151.0],\n",
       " [142.0, 160.0],\n",
       " [137.0, 137.0],\n",
       " [106.0, 148.0],\n",
       " [126.0, 132.0],\n",
       " [173.0, 175.0],\n",
       " [168.0, 171.0],\n",
       " [167.0, 175.0],\n",
       " [172.0, 174.0],\n",
       " [172.0, 178.0],\n",
       " [162.0, 162.0],\n",
       " [163.0, 177.0],\n",
       " [158.0, 159.0],\n",
       " [164.0, 168.0],\n",
       " [162.0, 165.0],\n",
       " [192.0, 209.0],\n",
       " [200.0, 212.0],\n",
       " [204.0, 206.0],\n",
       " [124.0, 128.0],\n",
       " [135.0, 144.0],\n",
       " [119.0, 123.0],\n",
       " [129.0, 138.0],\n",
       " [154.0, 157.0],\n",
       " [143.0, 150.0],\n",
       " [148.0, 148.0],\n",
       " [141.0, 145.0],\n",
       " [158.0, 158.0],\n",
       " [186.0, 188.0],\n",
       " [158.0, 158.0],\n",
       " [176.0, 177.0],\n",
       " [179.0, 186.0],\n",
       " [194.0, 196.0],\n",
       " [207.0, 209.0],\n",
       " [218.0, 219.0],\n",
       " [156.0, 156.0],\n",
       " [132.0, 136.0],\n",
       " [154.0, 161.0],\n",
       " [147.0, 148.0],\n",
       " [145.0, 153.0],\n",
       " [146.0, 150.0],\n",
       " [117.0, 153.0],\n",
       " [94.0, 169.0],\n",
       " [82.0, 153.0],\n",
       " [105.0, 146.0],\n",
       " [160.0, 166.0],\n",
       " [141.0, 156.0],\n",
       " [174.0, 176.0],\n",
       " [87.0, 131.0],\n",
       " [124.0, 128.0],\n",
       " [117.0, 123.0],\n",
       " [121.0, 123.0],\n",
       " [141.0, 151.0],\n",
       " [158.0, 162.0],\n",
       " [157.0, 160.0],\n",
       " [155.0, 159.0],\n",
       " [142.0, 144.0],\n",
       " [156.0, 157.0],\n",
       " [163.0, 172.0],\n",
       " [154.0, 158.0],\n",
       " [157.0, 162.0],\n",
       " [157.0, 159.0],\n",
       " [144.0, 152.0],\n",
       " [196.0, 206.0],\n",
       " [139.0, 141.0],\n",
       " [142.0, 146.0],\n",
       " [154.0, 155.0],\n",
       " [150.0, 154.0],\n",
       " [142.0, 144.0],\n",
       " [141.0, 151.0],\n",
       " [146.0, 152.0],\n",
       " [147.0, 153.0],\n",
       " [142.0, 143.0],\n",
       " [149.0, 160.0],\n",
       " [141.0, 151.0],\n",
       " [148.0, 151.0],\n",
       " [173.0, 187.0],\n",
       " [148.0, 151.0],\n",
       " [147.0, 170.0],\n",
       " [142.0, 146.0],\n",
       " [177.0, 180.0],\n",
       " [82.0, 143.0],\n",
       " [143.0, 146.0],\n",
       " [74.0, 144.0],\n",
       " [160.0, 161.0],\n",
       " [109.0, 129.0],\n",
       " [151.0, 153.0],\n",
       " [158.0, 158.0],\n",
       " [80.0, 141.0],\n",
       " [81.0, 133.0],\n",
       " [74.0, 132.0],\n",
       " [132.0, 133.0],\n",
       " [150.0, 152.0],\n",
       " [124.0, 140.0],\n",
       " [136.0, 140.0],\n",
       " [137.0, 138.0],\n",
       " [119.0, 123.0],\n",
       " [157.0, 165.0],\n",
       " [162.0, 163.0],\n",
       " [146.0, 148.0],\n",
       " [125.0, 131.0],\n",
       " [146.0, 151.0],\n",
       " [145.0, 146.0],\n",
       " [221.0, 222.0],\n",
       " [217.0, 224.0],\n",
       " [205.0, 210.0],\n",
       " [202.0, 204.0],\n",
       " [164.0, 166.0],\n",
       " [189.0, 195.0],\n",
       " [161.0, 162.0],\n",
       " [135.0, 144.0],\n",
       " [185.0, 189.0],\n",
       " [193.0, 195.0],\n",
       " [162.0, 168.0],\n",
       " [162.0, 176.0],\n",
       " [185.0, 187.0],\n",
       " [190.0, 199.0],\n",
       " [188.0, 190.0],\n",
       " [195.0, 201.0],\n",
       " [173.0, 175.0],\n",
       " [198.0, 202.0],\n",
       " [178.0, 178.0],\n",
       " [176.0, 179.0],\n",
       " [160.0, 161.0],\n",
       " [171.0, 176.0],\n",
       " [153.0, 159.0],\n",
       " [193.0, 193.0],\n",
       " [178.0, 181.0],\n",
       " [184.0, 187.0],\n",
       " [196.0, 197.0],\n",
       " [160.0, 160.0],\n",
       " [187.0, 189.0],\n",
       " [168.0, 176.0],\n",
       " [193.0, 197.0],\n",
       " [152.0, 158.0],\n",
       " [219.0, 224.0],\n",
       " [197.0, 204.0],\n",
       " [197.0, 199.0],\n",
       " [197.0, 202.0],\n",
       " [187.0, 187.0],\n",
       " [174.0, 177.0],\n",
       " [190.0, 197.0],\n",
       " [192.0, 200.0],\n",
       " [206.0, 210.0],\n",
       " [207.0, 210.0]]"
      ]
     },
     "execution_count": 95,
     "metadata": {},
     "output_type": "execute_result"
    }
   ],
   "source": [
    "wrong_match_dists"
   ]
  },
  {
   "cell_type": "code",
   "execution_count": 116,
   "metadata": {},
   "outputs": [],
   "source": [
    "def analyse_wrong_threshold(correct, wrong, prod=False, d=None, all_invalid_dists=None):\n",
    "    data = {}\n",
    "    for i in range(50, 230, 10):\n",
    "        perc_correct_missed = len([d for d in correct if d>i])/len(correct)\n",
    "        perc_wrong_admitted = len([d for d in wrong if d<i])/len(wrong)\n",
    "        data[str(i)] = [perc_correct_missed, perc_wrong_admitted]\n",
    "        columns = ['perc_correct_missed','perc_wrong_admitted']\n",
    "        if all_invalid_dists is not None:\n",
    "            perc_invalid_admitted = len([d for d in all_invalid_dists if d<i])/len(all_invalid_dists)\n",
    "            data[str(i)].append(perc_invalid_admitted)\n",
    "            columns.append('perc_invalid_admitted')\n",
    "    \n",
    "    data_df = pd.DataFrame.from_dict(data, orient='index', columns=columns)\n",
    "    display(data_df.plot())\n",
    "    \n",
    "    data = {}\n",
    "    for i in range(50, 160, 10):\n",
    "        count_correct_missed = len([d for d in correct if d>i])\n",
    "        count_wrong_admitted = len([d for d in wrong if d<i])\n",
    "        data[str(i)] = [count_correct_missed, count_wrong_admitted]\n",
    "        columns = ['count_correct_missed', 'count_wrong_admitted']\n",
    "        if all_invalid_dists is not None:\n",
    "            count_invalid_admitted = len([d for d in all_invalid_dists if d<i])\n",
    "            data[str(i)].append(count_invalid_admitted)\n",
    "            columns.append('count_invalid_admitted')\n",
    "    data_df = pd.DataFrame.from_dict(data, orient='index', columns=columns)\n",
    "    display(data_df.plot())\n",
    "    \n",
    "    # how many images will have a wrong match?\n",
    "    if prod:\n",
    "        data = {}\n",
    "        correct_firsts, wrong_match_dists = get_top_n_dists(d)  # they're the same length\n",
    "        for i in range(50, 230, 10):\n",
    "            perc_correct_first_missed = len([d for d in correct_firsts if d>i])/len(correct_firsts)\n",
    "            perc_wrong_matches_admitted = len([j for j in wrong_match_dists if any(k<i for k in j)])/len(wrong_match_dists)\n",
    "            data[str(i)] = [perc_correct_first_missed, perc_wrong_matches_admitted]\n",
    "            columns = ['perc_correct_first_missed','perc_wrong_matches_admitted']\n",
    "        data_df = pd.DataFrame.from_dict(data, orient='index', columns=columns)\n",
    "        display(data_df.plot())\n",
    "        \n",
    "        data = {}\n",
    "        for i in range(75, 137, 5):\n",
    "            count_correct_first_missed = len([d for d in correct_firsts if d>i])\n",
    "            count_wrong_matches_admitted = len([j for j in wrong_match_dists if any(k<i for k in j)])\n",
    "            data[str(i)] = [count_correct_first_missed, count_wrong_matches_admitted]\n",
    "            columns = ['count_correct_first_missed','count_wrong_matches_admitted']\n",
    "        data_df = pd.DataFrame.from_dict(data, orient='index', columns=columns)\n",
    "        display(data_df.plot())\n",
    "        "
   ]
  },
  {
   "cell_type": "code",
   "execution_count": 4,
   "metadata": {},
   "outputs": [],
   "source": [
    "dataset_path = 'data/categories_castle_cafe/categories_blurred_photos_removed_multiple_hold_imgs_small_with_invalid/'\n",
    "DETECTOR_TYPE = 'orb'\n",
    "NO_CATS = 47\n",
    "NO_FEATURES = 450\n",
    "GREY = True"
   ]
  },
  {
   "cell_type": "code",
   "execution_count": 5,
   "metadata": {},
   "outputs": [
    {
     "name": "stdout",
     "output_type": "stream",
     "text": [
      "Time elapsed generating descriptors: 7.90776252746582\n"
     ]
    }
   ],
   "source": [
    "descriptors = cbir_helpers.gen_descriptors(dataset_path, DETECTOR_TYPE, NO_CATS, NO_FEATURES, GREY)"
   ]
  },
  {
   "cell_type": "code",
   "execution_count": 6,
   "metadata": {},
   "outputs": [
    {
     "name": "stdout",
     "output_type": "stream",
     "text": [
      "Time elapsed matching all images: 192.8296217918396\n"
     ]
    }
   ],
   "source": [
    "d = cbir_helpers.match_images('BF', descriptors)"
   ]
  },
  {
   "cell_type": "code",
   "execution_count": 19,
   "metadata": {},
   "outputs": [
    {
     "name": "stdout",
     "output_type": "stream",
     "text": [
      "Max correct: 210.0\n",
      "Min wrong: 82.0\n",
      "Total number of images: 363\n",
      "Number wrong: 22\n",
      "Number wrong below threshold: 21\n",
      "% wrong below max correct: 6.0%\n",
      "% wrong overall: 6.0%\n",
      "% wrong overall top 3: 5.0%\n"
     ]
    }
   ],
   "source": [
    "correct, wrong, correct_top_3, wrong_top_3 = cbir_helpers.get_stats(d)"
   ]
  },
  {
   "cell_type": "code",
   "execution_count": 21,
   "metadata": {},
   "outputs": [],
   "source": [
    "d_wo_invalid = {k:v for k,v in d.items() if k.split('/')[0] != str(47)}"
   ]
  },
  {
   "cell_type": "code",
   "execution_count": 31,
   "metadata": {},
   "outputs": [
    {
     "name": "stdout",
     "output_type": "stream",
     "text": [
      "Max correct: 137.0\n",
      "Min wrong: 82.0\n",
      "Total number of images: 320\n",
      "Number wrong: 4\n",
      "Number wrong below threshold: 1\n",
      "% wrong below max correct: 0.0%\n",
      "% wrong overall: 1.0%\n",
      "% wrong overall top 3: 1.0%\n"
     ]
    }
   ],
   "source": [
    "correct, wrong, correct_top_3, wrong_top_3 = cbir_helpers.get_stats(d_wo_invalid)"
   ]
  },
  {
   "cell_type": "code",
   "execution_count": 32,
   "metadata": {},
   "outputs": [],
   "source": [
    "min_dists = cbir_helpers.get_min_dists(d_wo_invalid)"
   ]
  },
  {
   "cell_type": "code",
   "execution_count": 33,
   "metadata": {},
   "outputs": [],
   "source": [
    "correct, wrong = cbir_helpers.find_correct_wrong_dists(min_dists)"
   ]
  },
  {
   "cell_type": "code",
   "execution_count": 34,
   "metadata": {},
   "outputs": [
    {
     "data": {
      "text/plain": [
       "137.0"
      ]
     },
     "execution_count": 34,
     "metadata": {},
     "output_type": "execute_result"
    }
   ],
   "source": [
    "max(correct)"
   ]
  },
  {
   "cell_type": "code",
   "execution_count": 35,
   "metadata": {},
   "outputs": [
    {
     "data": {
      "text/plain": [
       "82.0"
      ]
     },
     "execution_count": 35,
     "metadata": {},
     "output_type": "execute_result"
    }
   ],
   "source": [
    "min(wrong)"
   ]
  },
  {
   "cell_type": "code",
   "execution_count": 112,
   "metadata": {},
   "outputs": [
    {
     "data": {
      "text/plain": [
       "<matplotlib.axes._subplots.AxesSubplot at 0x7fe97da85160>"
      ]
     },
     "metadata": {},
     "output_type": "display_data"
    },
    {
     "data": {
      "text/plain": [
       "<matplotlib.axes._subplots.AxesSubplot at 0x7fe97d9eb6d8>"
      ]
     },
     "metadata": {},
     "output_type": "display_data"
    },
    {
     "data": {
      "text/plain": [
       "<matplotlib.axes._subplots.AxesSubplot at 0x7fe97d9b8cf8>"
      ]
     },
     "metadata": {},
     "output_type": "display_data"
    },
    {
     "data": {
      "text/plain": [
       "<matplotlib.axes._subplots.AxesSubplot at 0x7fe97d915780>"
      ]
     },
     "metadata": {},
     "output_type": "display_data"
    },
    {
     "data": {
      "image/png": "[encoded data removed]",
      "text/plain": [
       "<Figure size 432x288 with 1 Axes>"
      ]
     },
     "metadata": {
      "needs_background": "light"
     },
     "output_type": "display_data"
    },
    {
     "data": {
      "image/png": "[encoded data removed]",
      "text/plain": [
       "<Figure size 432x288 with 1 Axes>"
      ]
     },
     "metadata": {
      "needs_background": "light"
     },
     "output_type": "display_data"
    },
    {
     "data": {
      "image/png": "[encoded data removed]",
      "text/plain": [
       "<Figure size 432x288 with 1 Axes>"
      ]
     },
     "metadata": {
      "needs_background": "light"
     },
     "output_type": "display_data"
    },
    {
     "data": {
      "image/png": "[encoded data removed]",
      "text/plain": [
       "<Figure size 432x288 with 1 Axes>"
      ]
     },
     "metadata": {
      "needs_background": "light"
     },
     "output_type": "display_data"
    }
   ],
   "source": [
    "analyse_wrong_threshold(correct, wrong, True, d_wo_invalid)"
   ]
  },
  {
   "cell_type": "markdown",
   "metadata": {},
   "source": [
    "Decided to still go for 137, as it will retain correct matches which is important for the user.\n",
    "\n",
    "Data quality overall will be worse, but for now it would probably be sufficient. "
   ]
  },
  {
   "cell_type": "code",
   "execution_count": 113,
   "metadata": {},
   "outputs": [],
   "source": [
    "def invalid_images_stats(d):\n",
    "    max_valids = []\n",
    "    min_invalids = []\n",
    "    all_invalid_dists = []\n",
    "    for img, dists_d in d.items():\n",
    "        if img.split('/')[0]!=str(47):  # we want to skip the bad images\n",
    "            valid_dists = []\n",
    "            invalid_dists = []\n",
    "            for imgname, dist in dists_d.items():\n",
    "                c = imgname.split('/')[0]\n",
    "                if int(c)<47:\n",
    "                    valid_dists.append(dist)\n",
    "                else:\n",
    "                    invalid_dists.append(dist)\n",
    "                    all_invalid_dists.append(dist)\n",
    "            max_valids.append(max(valid_dists))\n",
    "            min_invalids.append(min(invalid_dists))\n",
    "    return max_valids, min_invalids, all_invalid_dists"
   ]
  },
  {
   "cell_type": "code",
   "execution_count": 114,
   "metadata": {},
   "outputs": [],
   "source": [
    "max_valids, min_invalids, all_invalid_dists = invalid_images_stats(d)"
   ]
  },
  {
   "cell_type": "code",
   "execution_count": 117,
   "metadata": {},
   "outputs": [
    {
     "data": {
      "text/plain": [
       "<matplotlib.axes._subplots.AxesSubplot at 0x7fe97db593c8>"
      ]
     },
     "metadata": {},
     "output_type": "display_data"
    },
    {
     "data": {
      "text/plain": [
       "<matplotlib.axes._subplots.AxesSubplot at 0x7fe97dc821d0>"
      ]
     },
     "metadata": {},
     "output_type": "display_data"
    },
    {
     "data": {
      "image/png": "[encoded data removed]",
      "text/plain": [
       "<Figure size 432x288 with 1 Axes>"
      ]
     },
     "metadata": {
      "needs_background": "light"
     },
     "output_type": "display_data"
    },
    {
     "data": {
      "image/png": "[encoded data removed]",
      "text/plain": [
       "<Figure size 432x288 with 1 Axes>"
      ]
     },
     "metadata": {
      "needs_background": "light"
     },
     "output_type": "display_data"
    }
   ],
   "source": [
    "analyse_wrong_threshold(correct, wrong, all_invalid_dists=all_invalid_dists)"
   ]
  },
  {
   "cell_type": "markdown",
   "metadata": {},
   "source": [
    "### Test set (Yonder)"
   ]
  },
  {
   "cell_type": "markdown",
   "metadata": {},
   "source": [
    "The steps would be to match with Yonder and I would expect to see few incorrect matches under 137, and get all correct matches. \n",
    "\n",
    "However I know that images from Yonder are a bit different..."
   ]
  },
  {
   "cell_type": "code",
   "execution_count": 118,
   "metadata": {},
   "outputs": [],
   "source": [
    "dataset_path = 'data/categories_yonder_cbir_small'\n",
    "DETECTOR_TYPE = 'orb'\n",
    "NO_CATS = 38\n",
    "NO_FEATURES = 450\n",
    "GREY = True"
   ]
  },
  {
   "cell_type": "code",
   "execution_count": 119,
   "metadata": {},
   "outputs": [
    {
     "name": "stdout",
     "output_type": "stream",
     "text": [
      "Time elapsed generating descriptors: 3.1919798851013184\n"
     ]
    }
   ],
   "source": [
    "descriptors = cbir_helpers.gen_descriptors(dataset_path, DETECTOR_TYPE, NO_CATS, NO_FEATURES, GREY)"
   ]
  },
  {
   "cell_type": "code",
   "execution_count": 120,
   "metadata": {},
   "outputs": [
    {
     "data": {
      "text/plain": [
       "137"
      ]
     },
     "execution_count": 120,
     "metadata": {},
     "output_type": "execute_result"
    }
   ],
   "source": [
    "len(list(descriptors.keys()))"
   ]
  },
  {
   "cell_type": "code",
   "execution_count": 121,
   "metadata": {},
   "outputs": [
    {
     "name": "stdout",
     "output_type": "stream",
     "text": [
      "Time elapsed matching all images: 27.73279857635498\n"
     ]
    }
   ],
   "source": [
    "d = cbir_helpers.match_images('BF', descriptors)"
   ]
  },
  {
   "cell_type": "code",
   "execution_count": 122,
   "metadata": {},
   "outputs": [
    {
     "name": "stdout",
     "output_type": "stream",
     "text": [
      "Max correct: 141.0\n",
      "Min wrong: 51.0\n",
      "Total number of images: 137\n",
      "Number wrong: 21\n",
      "Number wrong below threshold: 21\n",
      "% wrong below max correct: 15.0%\n",
      "% wrong overall: 15.0%\n",
      "% wrong overall top 3: 3.0%\n"
     ]
    }
   ],
   "source": [
    "cbir_helpers.get_stats(d)"
   ]
  },
  {
   "cell_type": "code",
   "execution_count": 122,
   "metadata": {},
   "outputs": [],
   "source": [
    "min_dists = cbir_helpers.get_min_dists(d)"
   ]
  },
  {
   "cell_type": "code",
   "execution_count": 123,
   "metadata": {},
   "outputs": [],
   "source": [
    "correct, wrong = cbir_helpers.find_correct_wrong_dists(min_dists)"
   ]
  },
  {
   "cell_type": "code",
   "execution_count": 124,
   "metadata": {},
   "outputs": [
    {
     "data": {
      "text/plain": [
       "141.0"
      ]
     },
     "execution_count": 124,
     "metadata": {},
     "output_type": "execute_result"
    }
   ],
   "source": [
    "max(correct)"
   ]
  },
  {
   "cell_type": "code",
   "execution_count": 125,
   "metadata": {},
   "outputs": [
    {
     "data": {
      "text/plain": [
       "[141.0]"
      ]
     },
     "execution_count": 125,
     "metadata": {},
     "output_type": "execute_result"
    }
   ],
   "source": [
    "[c for c in correct if c > 137]"
   ]
  },
  {
   "cell_type": "code",
   "execution_count": 126,
   "metadata": {},
   "outputs": [
    {
     "data": {
      "text/plain": [
       "51.0"
      ]
     },
     "execution_count": 126,
     "metadata": {},
     "output_type": "execute_result"
    }
   ],
   "source": [
    "min(wrong)"
   ]
  },
  {
   "cell_type": "code",
   "execution_count": 127,
   "metadata": {},
   "outputs": [
    {
     "data": {
      "text/plain": [
       "<matplotlib.axes._subplots.AxesSubplot at 0x7fe97e4c4748>"
      ]
     },
     "metadata": {},
     "output_type": "display_data"
    },
    {
     "data": {
      "text/plain": [
       "<matplotlib.axes._subplots.AxesSubplot at 0x7fe97db5fa20>"
      ]
     },
     "metadata": {},
     "output_type": "display_data"
    },
    {
     "data": {
      "text/plain": [
       "<matplotlib.axes._subplots.AxesSubplot at 0x7fe97dad3a20>"
      ]
     },
     "metadata": {},
     "output_type": "display_data"
    },
    {
     "data": {
      "text/plain": [
       "<matplotlib.axes._subplots.AxesSubplot at 0x7fe97e2dde10>"
      ]
     },
     "metadata": {},
     "output_type": "display_data"
    },
    {
     "data": {
      "image/png": "[encoded data removed]",
      "text/plain": [
       "<Figure size 432x288 with 1 Axes>"
      ]
     },
     "metadata": {
      "needs_background": "light"
     },
     "output_type": "display_data"
    },
    {
     "data": {
      "image/png": "[encoded data removed]",
      "text/plain": [
       "<Figure size 432x288 with 1 Axes>"
      ]
     },
     "metadata": {
      "needs_background": "light"
     },
     "output_type": "display_data"
    },
    {
     "data": {
      "image/png": "[encoded data removed]",
      "text/plain": [
       "<Figure size 432x288 with 1 Axes>"
      ]
     },
     "metadata": {
      "needs_background": "light"
     },
     "output_type": "display_data"
    },
    {
     "data": {
      "image/png": "[encoded data removed]",
      "text/plain": [
       "<Figure size 432x288 with 1 Axes>"
      ]
     },
     "metadata": {
      "needs_background": "light"
     },
     "output_type": "display_data"
    }
   ],
   "source": [
    "analyse_wrong_threshold(correct, wrong, prod=True, d=d)"
   ]
  },
  {
   "cell_type": "markdown",
   "metadata": {},
   "source": [
    "For this dataset the threshold does not remove any wrong matches. But I know that those \"wrong\" matches are because that hold physically appeared in the another route's image. So you cant' blame it. \n",
    "\n",
    "On the correct side, only 1 correct match is prevented - not too bad."
   ]
  }
 ],
 "metadata": {
  "kernelspec": {
   "display_name": "Python 3",
   "language": "python",
   "name": "python3"
  },
  "language_info": {
   "codemirror_mode": {
    "name": "ipython",
    "version": 3
   },
   "file_extension": ".py",
   "mimetype": "text/x-python",
   "name": "python",
   "nbconvert_exporter": "python",
   "pygments_lexer": "ipython3",
   "version": "3.6.8"
  }
 },
 "nbformat": 4,
 "nbformat_minor": 4
}
