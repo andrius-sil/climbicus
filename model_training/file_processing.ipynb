{
 "cells": [
  {
   "cell_type": "code",
   "execution_count": 8,
   "metadata": {},
   "outputs": [],
   "source": [
    "import os\n",
    "from matplotlib.pyplot import imshow\n",
    "import numpy as np\n",
    "import shutil"
   ]
  },
  {
   "cell_type": "code",
   "execution_count": 9,
   "metadata": {},
   "outputs": [],
   "source": [
    "from PIL import Image"
   ]
  },
  {
   "cell_type": "code",
   "execution_count": 10,
   "metadata": {},
   "outputs": [],
   "source": [
    "from keras.preprocessing.image import load_img"
   ]
  },
  {
   "cell_type": "code",
   "execution_count": 11,
   "metadata": {},
   "outputs": [],
   "source": [
    "import random\n",
    "SEED = 101"
   ]
  },
  {
   "cell_type": "code",
   "execution_count": 12,
   "metadata": {},
   "outputs": [],
   "source": [
    "category_paths = [f'data/categories_castle/categories/{i}/' for i in range(1, 31)]"
   ]
  },
  {
   "cell_type": "code",
   "execution_count": 13,
   "metadata": {},
   "outputs": [],
   "source": [
    "no_cats = 30"
   ]
  },
  {
   "cell_type": "code",
   "execution_count": 14,
   "metadata": {},
   "outputs": [],
   "source": [
    "def get_filenames(mypath):\n",
    "    onlyfiles = [f for f in os.listdir(mypath) if not f.startswith('.')]\n",
    "    return onlyfiles"
   ]
  },
  {
   "cell_type": "code",
   "execution_count": 15,
   "metadata": {},
   "outputs": [],
   "source": [
    "def view_photo(category, number):\n",
    "    test_img = os.path.join(category_paths[category-1], get_filenames(category_paths[category-1])[number-1])\n",
    "    print(get_filenames(category_paths[category])[number])\n",
    "    # load the image\n",
    "    img = load_img(test_img)\n",
    "    # report details about the image\n",
    "    print(type(img))\n",
    "    print(img.format)\n",
    "    print(img.mode)\n",
    "    print(img.size)\n",
    "    # show the image\n",
    "    imshow(img)"
   ]
  },
  {
   "cell_type": "code",
   "execution_count": 16,
   "metadata": {},
   "outputs": [],
   "source": [
    "def overwrite_dir(dir):\n",
    "    if os.path.exists(dir):\n",
    "        shutil.rmtree(dir)\n",
    "    os.makedirs(dir)"
   ]
  },
  {
   "cell_type": "code",
   "execution_count": 26,
   "metadata": {},
   "outputs": [],
   "source": [
    "def compress_and_save(image_path, dest_image_path):\n",
    "    image = Image.open(image_path)\n",
    "    newImage = image.resize((150, 150), Image.LANCZOS)\n",
    "    newImage.save(dest_image_path, 'JPEG', quality=90)"
   ]
  },
  {
   "cell_type": "markdown",
   "metadata": {},
   "source": [
    "Splitting data into train and test"
   ]
  },
  {
   "cell_type": "code",
   "execution_count": 28,
   "metadata": {},
   "outputs": [],
   "source": [
    "def split_train_test(base_dir, no_cats, compress=False):\n",
    "    data_path = os.path.join('data/', base_dir)\n",
    "    \n",
    "    overwrite_dir(os.path.join(data_path, 'test/'))\n",
    "    overwrite_dir(os.path.join(data_path, 'train/'))\n",
    "\n",
    "    for c in range(1, no_cats+1):\n",
    "        category_path = os.path.join(data_path, f'categories/{c}/')\n",
    "        os.makedirs(os.path.join(data_path, f'test/{c}/'))\n",
    "        os.makedirs(os.path.join(data_path, f'train/{c}/'))\n",
    "\n",
    "        list_of_filenames = get_filenames(category_path)\n",
    "        random.seed(SEED)\n",
    "        test_filename = random.choice(list_of_filenames)\n",
    "        test_filename_path = os.path.join(category_path, test_filename)\n",
    "        if compress:\n",
    "            compress_and_save(test_filename_path, f'{data_path}/test/{c}/{test_filename}')\n",
    "        else:\n",
    "            shutil.copyfile(test_filename_path, f'{data_path}/test/{c}/{test_filename}')\n",
    "\n",
    "        # copy what's left to train\n",
    "        list_of_filenames.remove(test_filename) # doesn't deal with duplicates\n",
    "        for train_filename in list_of_filenames:\n",
    "            train_filename_path = os.path.join(category_path, train_filename)\n",
    "            if compress:\n",
    "                compress_and_save(train_filename_path, f'{data_path}/train/{c}/{train_filename}')\n",
    "            else:\n",
    "                shutil.copyfile(train_filename_path, f'{data_path}/train/{c}/{train_filename}')"
   ]
  },
  {
   "cell_type": "code",
   "execution_count": 29,
   "metadata": {},
   "outputs": [],
   "source": [
    "split_train_test('categories_castle', no_cats, compress=True)"
   ]
  }
 ],
 "metadata": {
  "kernelspec": {
   "display_name": "Python 3",
   "language": "python",
   "name": "python3"
  },
  "language_info": {
   "codemirror_mode": {
    "name": "ipython",
    "version": 3
   },
   "file_extension": ".py",
   "mimetype": "text/x-python",
   "name": "python",
   "nbconvert_exporter": "python",
   "pygments_lexer": "ipython3",
   "version": "3.6.8"
  }
 },
 "nbformat": 4,
 "nbformat_minor": 2
}
