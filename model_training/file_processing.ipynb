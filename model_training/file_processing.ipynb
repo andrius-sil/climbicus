{
 "cells": [
  {
   "cell_type": "code",
   "execution_count": 28,
   "metadata": {},
   "outputs": [],
   "source": [
    "import os\n",
    "import shutil\n",
    "import random"
   ]
  },
  {
   "cell_type": "code",
   "execution_count": 31,
   "metadata": {},
   "outputs": [],
   "source": [
    "SEED = 101"
   ]
  },
  {
   "cell_type": "code",
   "execution_count": 32,
   "metadata": {},
   "outputs": [],
   "source": [
    "CATEGORY_PATH = 'categories_castle_cafe/categories_2_photos'"
   ]
  },
  {
   "cell_type": "code",
   "execution_count": 33,
   "metadata": {},
   "outputs": [],
   "source": [
    "set_sizes = {\n",
    "    'train': 1,\n",
    "    'val': 1,\n",
    "    'test': 0\n",
    "}"
   ]
  },
  {
   "cell_type": "code",
   "execution_count": 35,
   "metadata": {},
   "outputs": [],
   "source": [
    "def get_filenames(mypath):\n",
    "    onlyfiles = [f for f in os.listdir(mypath) if not f.startswith('.')]\n",
    "    return onlyfiles"
   ]
  },
  {
   "cell_type": "code",
   "execution_count": 36,
   "metadata": {},
   "outputs": [],
   "source": [
    "def overwrite_dir(dir):\n",
    "    if os.path.exists(dir):\n",
    "        shutil.rmtree(dir)\n",
    "    os.makedirs(dir)"
   ]
  },
  {
   "cell_type": "code",
   "execution_count": 37,
   "metadata": {},
   "outputs": [],
   "source": [
    "def compress_and_save(image_path, dest_image_path):\n",
    "    image = Image.open(image_path)\n",
    "    newImage = image.resize((150, 150), Image.LANCZOS)\n",
    "    newImage.save(dest_image_path, 'JPEG', quality=90)"
   ]
  },
  {
   "cell_type": "markdown",
   "metadata": {},
   "source": [
    "Splitting data into train and test"
   ]
  },
  {
   "cell_type": "code",
   "execution_count": 50,
   "metadata": {},
   "outputs": [],
   "source": [
    "def save_image_to_folder(filenames_and_paths, data_path, split_type, c, compress):\n",
    "    for filename, path in filenames_and_paths.items():\n",
    "        if compress:\n",
    "            compress_and_save(path, f'{data_path}/{split_type}/{c}/{filename}')\n",
    "        else:\n",
    "            shutil.copyfile(path, f'{data_path}/{split_type}/{c}/{filename}')"
   ]
  },
  {
   "cell_type": "code",
   "execution_count": 41,
   "metadata": {},
   "outputs": [],
   "source": [
    "def copy_images_to_set_folders(all_filenames_and_paths, set_base_path, c, compress):\n",
    "    for set_type, filenames_and_paths in all_filenames_and_paths.items():\n",
    "        for filename, path in filenames_and_paths.items():\n",
    "            if compress:\n",
    "                compress_and_save(path, f'{set_base_path}/{set_type}/{c}/{filename}')\n",
    "            else:\n",
    "                shutil.copyfile(path, f'{set_base_path}/{set_type}/{c}/{filename}')"
   ]
  },
  {
   "cell_type": "code",
   "execution_count": 45,
   "metadata": {},
   "outputs": [],
   "source": [
    "def split_train_test(base_dir, set_sizes, compress=True):\n",
    "    data_path = os.path.join('data', base_dir)\n",
    "    set_base_path = os.path.join('data/sets', base_dir.replace('/', '_'))\n",
    "    \n",
    "    for set_type, size in set_sizes.items():\n",
    "        if size>0:\n",
    "            overwrite_dir(os.path.join(set_base_path, f'{set_type}/'))\n",
    "        \n",
    "    list_of_cats = listdir_nohidden(data_path)\n",
    "\n",
    "    for c in list_of_cats:\n",
    "        category_path = os.path.join(data_path, f'{c}/')\n",
    "        list_of_filenames = get_filenames(category_path)\n",
    "        random.seed(SEED)\n",
    "\n",
    "        filenames_and_paths = {}\n",
    "        for set_type, size in set_sizes.items():\n",
    "            if size>0:\n",
    "                os.makedirs(os.path.join(set_base_path, f'{set_type}/{c}/'))\n",
    "                filenames_and_paths[set_type] = {}\n",
    "                for _ in range(size):\n",
    "                    choice = random.choice(list_of_filenames)\n",
    "                    filenames_and_paths[set_type][choice] = os.path.join(category_path, choice)\n",
    "                    list_of_filenames.remove(choice)\n",
    "            # Implement the usage the remaining photos in one of the sets\n",
    "        \n",
    "        copy_images_to_set_folders(filenames_and_paths, set_base_path, c, compress)"
   ]
  },
  {
   "cell_type": "code",
   "execution_count": 46,
   "metadata": {},
   "outputs": [],
   "source": [
    "split_train_test(CATEGORY_PATH, set_sizes, compress=True)"
   ]
  }
 ],
 "metadata": {
  "kernelspec": {
   "display_name": "Python 3",
   "language": "python",
   "name": "python3"
  },
  "language_info": {
   "codemirror_mode": {
    "name": "ipython",
    "version": 3
   },
   "file_extension": ".py",
   "mimetype": "text/x-python",
   "name": "python",
   "nbconvert_exporter": "python",
   "pygments_lexer": "ipython3",
   "version": "3.6.8"
  }
 },
 "nbformat": 4,
 "nbformat_minor": 2
}
