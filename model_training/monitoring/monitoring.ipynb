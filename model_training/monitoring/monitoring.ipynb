{
 "cells": [
  {
   "cell_type": "code",
   "execution_count": 1,
   "metadata": {},
   "outputs": [],
   "source": [
    "import os\n",
    "import sys\n",
    "module_path = os.path.abspath(os.path.join('..'))\n",
    "if module_path not in sys.path:\n",
    "    sys.path.append(module_path)"
   ]
  },
  {
   "cell_type": "code",
   "execution_count": 2,
   "metadata": {},
   "outputs": [],
   "source": [
    "import pandas as pd"
   ]
  },
  {
   "cell_type": "code",
   "execution_count": 3,
   "metadata": {},
   "outputs": [],
   "source": [
    "# from imp import reload"
   ]
  },
  {
   "cell_type": "code",
   "execution_count": 4,
   "metadata": {},
   "outputs": [],
   "source": [
    "from utilities.data.get_data import get_data"
   ]
  },
  {
   "cell_type": "code",
   "execution_count": 5,
   "metadata": {},
   "outputs": [],
   "source": [
    "from cbir.cbir import CBIRPredictor"
   ]
  },
  {
   "cell_type": "code",
   "execution_count": 6,
   "metadata": {},
   "outputs": [],
   "source": [
    "# import cbir.cbir as cbir"
   ]
  },
  {
   "cell_type": "code",
   "execution_count": 7,
   "metadata": {},
   "outputs": [],
   "source": [
    "# reload(cbir.CBIRPredictor)"
   ]
  },
  {
   "cell_type": "code",
   "execution_count": 8,
   "metadata": {},
   "outputs": [],
   "source": [
    "query_params = {\n",
    "    'START_AT': '2020-02-15',\n",
    "    'END_AT': '2020-02-15',\n",
    "}"
   ]
  },
  {
   "cell_type": "code",
   "execution_count": 9,
   "metadata": {},
   "outputs": [],
   "source": [
    "df = get_data(query_params)"
   ]
  },
  {
   "cell_type": "code",
   "execution_count": 10,
   "metadata": {},
   "outputs": [
    {
     "data": {
      "text/html": [
       "<div>\n",
       "<style scoped>\n",
       "    .dataframe tbody tr th:only-of-type {\n",
       "        vertical-align: middle;\n",
       "    }\n",
       "\n",
       "    .dataframe tbody tr th {\n",
       "        vertical-align: top;\n",
       "    }\n",
       "\n",
       "    .dataframe thead th {\n",
       "        text-align: right;\n",
       "    }\n",
       "</style>\n",
       "<table border=\"1\" class=\"dataframe\">\n",
       "  <thead>\n",
       "    <tr style=\"text-align: right;\">\n",
       "      <th></th>\n",
       "      <th>id</th>\n",
       "      <th>user_id</th>\n",
       "      <th>route_id</th>\n",
       "      <th>route_unmatched</th>\n",
       "      <th>model_version</th>\n",
       "      <th>path</th>\n",
       "      <th>created_at</th>\n",
       "      <th>descriptors</th>\n",
       "      <th>db_id</th>\n",
       "      <th>db_route_id</th>\n",
       "      <th>db_created_at</th>\n",
       "      <th>db_path</th>\n",
       "      <th>db_descriptors</th>\n",
       "    </tr>\n",
       "  </thead>\n",
       "  <tbody>\n",
       "    <tr>\n",
       "      <th>0</th>\n",
       "      <td>1</td>\n",
       "      <td>1</td>\n",
       "      <td>1</td>\n",
       "      <td>False</td>\n",
       "      <td>dummy_version</td>\n",
       "      <td>s3://climbicus-dev/route_images/dummy_data/gym...</td>\n",
       "      <td>2020-02-15 09:00:00+00:00</td>\n",
       "      <td>[b'\\x93', b'N', b'U', b'M', b'P', b'Y', b'\\x01...</td>\n",
       "      <td>37</td>\n",
       "      <td>10</td>\n",
       "      <td>2020-02-10 12:00:00+00:00</td>\n",
       "      <td>s3://climbicus-dev/route_images/dummy_data/gym...</td>\n",
       "      <td>[b'\\x93', b'N', b'U', b'M', b'P', b'Y', b'\\x01...</td>\n",
       "    </tr>\n",
       "    <tr>\n",
       "      <th>1</th>\n",
       "      <td>1</td>\n",
       "      <td>1</td>\n",
       "      <td>1</td>\n",
       "      <td>False</td>\n",
       "      <td>dummy_version</td>\n",
       "      <td>s3://climbicus-dev/route_images/dummy_data/gym...</td>\n",
       "      <td>2020-02-15 09:00:00+00:00</td>\n",
       "      <td>[b'\\x93', b'N', b'U', b'M', b'P', b'Y', b'\\x01...</td>\n",
       "      <td>38</td>\n",
       "      <td>10</td>\n",
       "      <td>2020-02-10 12:00:00+00:00</td>\n",
       "      <td>s3://climbicus-dev/route_images/dummy_data/gym...</td>\n",
       "      <td>[b'\\x93', b'N', b'U', b'M', b'P', b'Y', b'\\x01...</td>\n",
       "    </tr>\n",
       "    <tr>\n",
       "      <th>2</th>\n",
       "      <td>1</td>\n",
       "      <td>1</td>\n",
       "      <td>1</td>\n",
       "      <td>False</td>\n",
       "      <td>dummy_version</td>\n",
       "      <td>s3://climbicus-dev/route_images/dummy_data/gym...</td>\n",
       "      <td>2020-02-15 09:00:00+00:00</td>\n",
       "      <td>[b'\\x93', b'N', b'U', b'M', b'P', b'Y', b'\\x01...</td>\n",
       "      <td>39</td>\n",
       "      <td>10</td>\n",
       "      <td>2020-02-10 12:00:00+00:00</td>\n",
       "      <td>s3://climbicus-dev/route_images/dummy_data/gym...</td>\n",
       "      <td>[b'\\x93', b'N', b'U', b'M', b'P', b'Y', b'\\x01...</td>\n",
       "    </tr>\n",
       "    <tr>\n",
       "      <th>3</th>\n",
       "      <td>1</td>\n",
       "      <td>1</td>\n",
       "      <td>1</td>\n",
       "      <td>False</td>\n",
       "      <td>dummy_version</td>\n",
       "      <td>s3://climbicus-dev/route_images/dummy_data/gym...</td>\n",
       "      <td>2020-02-15 09:00:00+00:00</td>\n",
       "      <td>[b'\\x93', b'N', b'U', b'M', b'P', b'Y', b'\\x01...</td>\n",
       "      <td>40</td>\n",
       "      <td>10</td>\n",
       "      <td>2020-02-10 12:00:00+00:00</td>\n",
       "      <td>s3://climbicus-dev/route_images/dummy_data/gym...</td>\n",
       "      <td>[b'\\x93', b'N', b'U', b'M', b'P', b'Y', b'\\x01...</td>\n",
       "    </tr>\n",
       "    <tr>\n",
       "      <th>4</th>\n",
       "      <td>1</td>\n",
       "      <td>1</td>\n",
       "      <td>1</td>\n",
       "      <td>False</td>\n",
       "      <td>dummy_version</td>\n",
       "      <td>s3://climbicus-dev/route_images/dummy_data/gym...</td>\n",
       "      <td>2020-02-15 09:00:00+00:00</td>\n",
       "      <td>[b'\\x93', b'N', b'U', b'M', b'P', b'Y', b'\\x01...</td>\n",
       "      <td>41</td>\n",
       "      <td>11</td>\n",
       "      <td>2020-02-10 12:00:00+00:00</td>\n",
       "      <td>s3://climbicus-dev/route_images/dummy_data/gym...</td>\n",
       "      <td>[b'\\x93', b'N', b'U', b'M', b'P', b'Y', b'\\x01...</td>\n",
       "    </tr>\n",
       "  </tbody>\n",
       "</table>\n",
       "</div>"
      ],
      "text/plain": [
       "   id  user_id  route_id  route_unmatched  model_version  \\\n",
       "0   1        1         1            False  dummy_version   \n",
       "1   1        1         1            False  dummy_version   \n",
       "2   1        1         1            False  dummy_version   \n",
       "3   1        1         1            False  dummy_version   \n",
       "4   1        1         1            False  dummy_version   \n",
       "\n",
       "                                                path  \\\n",
       "0  s3://climbicus-dev/route_images/dummy_data/gym...   \n",
       "1  s3://climbicus-dev/route_images/dummy_data/gym...   \n",
       "2  s3://climbicus-dev/route_images/dummy_data/gym...   \n",
       "3  s3://climbicus-dev/route_images/dummy_data/gym...   \n",
       "4  s3://climbicus-dev/route_images/dummy_data/gym...   \n",
       "\n",
       "                 created_at  \\\n",
       "0 2020-02-15 09:00:00+00:00   \n",
       "1 2020-02-15 09:00:00+00:00   \n",
       "2 2020-02-15 09:00:00+00:00   \n",
       "3 2020-02-15 09:00:00+00:00   \n",
       "4 2020-02-15 09:00:00+00:00   \n",
       "\n",
       "                                         descriptors  db_id  db_route_id  \\\n",
       "0  [b'\\x93', b'N', b'U', b'M', b'P', b'Y', b'\\x01...     37           10   \n",
       "1  [b'\\x93', b'N', b'U', b'M', b'P', b'Y', b'\\x01...     38           10   \n",
       "2  [b'\\x93', b'N', b'U', b'M', b'P', b'Y', b'\\x01...     39           10   \n",
       "3  [b'\\x93', b'N', b'U', b'M', b'P', b'Y', b'\\x01...     40           10   \n",
       "4  [b'\\x93', b'N', b'U', b'M', b'P', b'Y', b'\\x01...     41           11   \n",
       "\n",
       "              db_created_at  \\\n",
       "0 2020-02-10 12:00:00+00:00   \n",
       "1 2020-02-10 12:00:00+00:00   \n",
       "2 2020-02-10 12:00:00+00:00   \n",
       "3 2020-02-10 12:00:00+00:00   \n",
       "4 2020-02-10 12:00:00+00:00   \n",
       "\n",
       "                                             db_path  \\\n",
       "0  s3://climbicus-dev/route_images/dummy_data/gym...   \n",
       "1  s3://climbicus-dev/route_images/dummy_data/gym...   \n",
       "2  s3://climbicus-dev/route_images/dummy_data/gym...   \n",
       "3  s3://climbicus-dev/route_images/dummy_data/gym...   \n",
       "4  s3://climbicus-dev/route_images/dummy_data/gym...   \n",
       "\n",
       "                                      db_descriptors  \n",
       "0  [b'\\x93', b'N', b'U', b'M', b'P', b'Y', b'\\x01...  \n",
       "1  [b'\\x93', b'N', b'U', b'M', b'P', b'Y', b'\\x01...  \n",
       "2  [b'\\x93', b'N', b'U', b'M', b'P', b'Y', b'\\x01...  \n",
       "3  [b'\\x93', b'N', b'U', b'M', b'P', b'Y', b'\\x01...  \n",
       "4  [b'\\x93', b'N', b'U', b'M', b'P', b'Y', b'\\x01...  "
      ]
     },
     "execution_count": 10,
     "metadata": {},
     "output_type": "execute_result"
    }
   ],
   "source": [
    "df.head()"
   ]
  },
  {
   "cell_type": "code",
   "execution_count": 11,
   "metadata": {},
   "outputs": [],
   "source": [
    "def reproduce(df):\n",
    "    df = df.sample(10)\n",
    "    cbir_predictor = CBIRPredictor()\n",
    "    cbir_predictor.init_matcher(\"flann\")\n",
    "    returned_series = df.apply(lambda x: cbir_predictor.match_images(x['descriptors'], x['db_descriptors']), axis=1)\n",
    "    df[['matches', 'dist']] = pd.DataFrame(returned_series.tolist(), index=returned_series.index)  \n",
    "    return df"
   ]
  },
  {
   "cell_type": "code",
   "execution_count": 12,
   "metadata": {},
   "outputs": [],
   "source": [
    "df = reproduce(df)"
   ]
  },
  {
   "cell_type": "code",
   "execution_count": 13,
   "metadata": {},
   "outputs": [
    {
     "data": {
      "text/plain": [
       "id      \n",
       "2   128     224.0\n",
       "9   679     219.0\n",
       "10  720     182.0\n",
       "17  1291    169.0\n",
       "18  1400    198.0\n",
       "21  1595    194.0\n",
       "    1634    205.0\n",
       "27  2080    205.0\n",
       "36  2825    223.0\n",
       "Name: dist, dtype: float64"
      ]
     },
     "execution_count": 13,
     "metadata": {},
     "output_type": "execute_result"
    }
   ],
   "source": [
    "df.groupby('id').dist.nsmallest(2)"
   ]
  },
  {
   "cell_type": "markdown",
   "metadata": {},
   "source": [
    "There will be images that have no route id _ route_unmatched - incorrect. See which ones it matched with. \n",
    "\n",
    "Ignore where no route id and route_unmatched False.\n",
    "\n",
    "With route id - correct."
   ]
  },
  {
   "cell_type": "markdown",
   "metadata": {},
   "source": [
    "Need to match each row. Then group by id, and get the lowest distances. \n",
    "Then group by status - route id / route_unmatched. "
   ]
  },
  {
   "cell_type": "code",
   "execution_count": null,
   "metadata": {},
   "outputs": [],
   "source": [
    "def get_stats(df):"
   ]
  }
 ],
 "metadata": {
  "kernelspec": {
   "display_name": "Python 3",
   "language": "python",
   "name": "python3"
  },
  "language_info": {
   "codemirror_mode": {
    "name": "ipython",
    "version": 3
   },
   "file_extension": ".py",
   "mimetype": "text/x-python",
   "name": "python",
   "nbconvert_exporter": "python",
   "pygments_lexer": "ipython3",
   "version": "3.6.10"
  }
 },
 "nbformat": 4,
 "nbformat_minor": 4
}
