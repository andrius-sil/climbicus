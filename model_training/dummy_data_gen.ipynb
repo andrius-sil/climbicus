{
 "cells": [
  {
   "cell_type": "code",
   "execution_count": 1,
   "metadata": {},
   "outputs": [],
   "source": [
    "from file_processing import *"
   ]
  },
  {
   "cell_type": "code",
   "execution_count": 2,
   "metadata": {},
   "outputs": [],
   "source": [
    "import json\n",
    "import pandas as pd\n",
    "import numpy as np"
   ]
  },
  {
   "cell_type": "code",
   "execution_count": 4,
   "metadata": {},
   "outputs": [
    {
     "name": "stdout",
     "output_type": "stream",
     "text": [
      "mkdir: cannot create directory ‘dummy_data/1’: File exists\n",
      "mkdir: cannot create directory ‘dummy_data/2’: File exists\n",
      "mkdir: cannot create directory ‘dummy_data/4’: File exists\n"
     ]
    }
   ],
   "source": [
    "!mkdir 'dummy_data/1'\n",
    "!mkdir 'dummy_data/2'\n",
    "!mkdir 'dummy_data/4'"
   ]
  },
  {
   "cell_type": "code",
   "execution_count": 3,
   "metadata": {},
   "outputs": [],
   "source": [
    "dummy_data_path = 'dummy_data/'"
   ]
  },
  {
   "cell_type": "code",
   "execution_count": 4,
   "metadata": {},
   "outputs": [],
   "source": [
    "d = {\n",
    "    'route_id': [],\n",
    "    'user_id': [],\n",
    "    'model_version': [],\n",
    "    'path': [],\n",
    "    'created_at': [],\n",
    "    'descriptors': []\n",
    "}"
   ]
  },
  {
   "cell_type": "code",
   "execution_count": 5,
   "metadata": {},
   "outputs": [],
   "source": [
    "def gen_descriptor(detector, category, img_name, dataset_path):\n",
    "    img = cv2.imread(os.path.join(dataset_path, category, img_name))\n",
    "    img = cv2.cvtColor(img, cv2.COLOR_BGR2GRAY)\n",
    "    _, des = detector.detectAndCompute(img, None)\n",
    "    return des"
   ]
  },
  {
   "cell_type": "code",
   "execution_count": 6,
   "metadata": {},
   "outputs": [],
   "source": [
    "orb = cv2.ORB_create(450)"
   ]
  },
  {
   "cell_type": "markdown",
   "metadata": {},
   "source": [
    "The Castle images - \"standard gym\""
   ]
  },
  {
   "cell_type": "code",
   "execution_count": 7,
   "metadata": {},
   "outputs": [],
   "source": [
    "castle_data_path = 'data/categories_castle_cafe/categories_blurred_photos_removed_small'"
   ]
  },
  {
   "cell_type": "code",
   "execution_count": 8,
   "metadata": {},
   "outputs": [],
   "source": [
    "list_of_cats = listdir_no_hidden(castle_data_path)\n",
    "list_of_cats.sort(key=int)\n",
    "list_of_cats = [x for x in list_of_cats if x not in ['47','48','49','50']] # don't want all the photos from manual test"
   ]
  },
  {
   "cell_type": "code",
   "execution_count": 9,
   "metadata": {},
   "outputs": [],
   "source": [
    "for c in list_of_cats:\n",
    "    category_path = os.path.join(castle_data_path, f\"{c}/\")\n",
    "    list_of_filenames = get_filenames(category_path)\n",
    "    for f in list_of_filenames[:4]:  # up to four images, otherwise the file will be very big\n",
    "        d['route_id'].append(c)\n",
    "        if int(c)<10:\n",
    "            d['user_id'].append(1)\n",
    "            d['created_at'].append(\"2020-02-15 09:00:00+0\")\n",
    "            d['path'].append(f\"s3://climbicus-dev/route_images/dummy_data/gym_id=1/year=2020/month=02/{c}_{f}\")\n",
    "        elif int(c)<30:\n",
    "            d['user_id'].append(2)\n",
    "            d['created_at'].append(\"2020-02-10 12:00:00+0\")\n",
    "            d['path'].append(f\"s3://climbicus-dev/route_images/dummy_data/gym_id=1/year=2020/month=02/{c}_{f}\")\n",
    "        else:\n",
    "            d['user_id'].append(3)\n",
    "            d['created_at'].append(\"2020-02-26 23:00:00+0\")\n",
    "            d['path'].append(f\"s3://climbicus-dev/route_images/dummy_data/gym_id=1/year=2020/month=02/{c}_{f}\")\n",
    "        d['model_version'].append('dummy_version')\n",
    "        des = gen_descriptor(orb, c, f, castle_data_path)\n",
    "        des_json = json.dumps(des.tolist())\n",
    "        d['descriptors'].append(des_json)\n",
    "        shutil.copyfile(category_path+f, f\"{dummy_data_path}/1/{c}_{f}\")"
   ]
  },
  {
   "cell_type": "markdown",
   "metadata": {},
   "source": [
    "Yonder images - 300, but don't need to be real, I will duplicate the images that I have.\n",
    "\n",
    "Due to the requirement to have a unique image path, I will add a string 'dup' to the name"
   ]
  },
  {
   "cell_type": "code",
   "execution_count": 10,
   "metadata": {},
   "outputs": [],
   "source": [
    "yonder_data_path = 'data/categories_yonder_cbir_small'"
   ]
  },
  {
   "cell_type": "code",
   "execution_count": 11,
   "metadata": {},
   "outputs": [
    {
     "name": "stdout",
     "output_type": "stream",
     "text": [
      "38\n"
     ]
    }
   ],
   "source": [
    "list_of_cats = listdir_no_hidden(yonder_data_path)\n",
    "list_of_cats.sort(key=int)\n",
    "print(len(list_of_cats))"
   ]
  },
  {
   "cell_type": "code",
   "execution_count": 12,
   "metadata": {},
   "outputs": [],
   "source": [
    "route_counter = 0\n",
    "loop_counter = 0\n",
    "while route_counter < 300:\n",
    "    for c in list_of_cats:\n",
    "        category_path = os.path.join(yonder_data_path, f\"{c}/\")\n",
    "        list_of_filenames = get_filenames(category_path)\n",
    "        for f in list_of_filenames[:2]: # just take two images as otherwise it's crazy\n",
    "            if route_counter<300:  # otherwise it finishes the whole loop\n",
    "                d['route_id'].append(f\"{int(c) + 46 + loop_counter*38}\")  # to account for the initial 46 castle routes and duplicates\n",
    "                if int(c)<10:\n",
    "                    d['user_id'].append(1)\n",
    "                    d['created_at'].append(\"2020-02-14 09:00:00+0\")\n",
    "                    d['path'].append(f\"s3://climbicus-dev/route_images/dummy_data/gym_id=2/year=2020/month=02/{c}_{route_counter}_{f}\")\n",
    "                elif int(c)<30:\n",
    "                    d['user_id'].append(2)\n",
    "                    d['created_at'].append(\"2020-02-19 12:00:00+0\")\n",
    "                    d['path'].append(f\"s3://climbicus-dev/route_images/dummy_data/gym_id=2/year=2020/month=02/{c}_{route_counter}_{f}\")\n",
    "                else:\n",
    "                    d['user_id'].append(3)\n",
    "                    d['created_at'].append(\"2020-02-03 23:00:00+0\")\n",
    "                    d['path'].append(f\"s3://climbicus-dev/route_images/dummy_data/gym_id=2/year=2020/month=02/{c}_{route_counter}_{f}\")\n",
    "                d['model_version'].append('dummy_version')\n",
    "                des = gen_descriptor(orb, c, f, yonder_data_path)\n",
    "                des_json = json.dumps(des.tolist())\n",
    "                d['descriptors'].append(des_json)\n",
    "                shutil.copyfile(category_path+f, f\"{dummy_data_path}/2/{c}_{route_counter}_{f}\")\n",
    "            else:\n",
    "                break\n",
    "        route_counter += 1\n",
    "    loop_counter += 1"
   ]
  },
  {
   "cell_type": "markdown",
   "metadata": {},
   "source": [
    "Gym 4  - some strange images\n",
    "\n",
    "I've pre-prepared a dataset_path of these weird images"
   ]
  },
  {
   "cell_type": "code",
   "execution_count": 13,
   "metadata": {},
   "outputs": [],
   "source": [
    "odd_data_path = 'data/edge_case_routes/'"
   ]
  },
  {
   "cell_type": "code",
   "execution_count": 14,
   "metadata": {},
   "outputs": [
    {
     "name": "stdout",
     "output_type": "stream",
     "text": [
      "3\n"
     ]
    }
   ],
   "source": [
    "list_of_cats = listdir_no_hidden(odd_data_path)\n",
    "list_of_cats.sort(key=int)\n",
    "print(len(list_of_cats))"
   ]
  },
  {
   "cell_type": "code",
   "execution_count": 15,
   "metadata": {},
   "outputs": [],
   "source": [
    "for c in list_of_cats:\n",
    "    category_path = os.path.join(odd_data_path, f\"{c}/\")\n",
    "    list_of_filenames = get_filenames(category_path)\n",
    "    for f in list_of_filenames[:4]:  # up to four images, otherwise the file will be very big\n",
    "        d['route_id'].append(f\"{int(c) + 46 + 300}\")\n",
    "        if int(c)<10:\n",
    "            d['user_id'].append(1)\n",
    "            d['created_at'].append(\"2020-02-15 09:00:00+0\")\n",
    "            d['path'].append(f\"s3://climbicus-dev/route_images/dummy_data/gym_id=4/year=2020/month=02/{int(c) + 46 + 300}_{f}\")\n",
    "        elif int(c)<30:\n",
    "            d['user_id'].append(2)\n",
    "            d['created_at'].append(\"2020-02-10 12:00:00+0\")\n",
    "            d['path'].append(f\"s3://climbicus-dev/route_images/dummy_data/gym_id=4/year=2020/month=02/{int(c) + 46 + 300}_{f}\")\n",
    "        else:\n",
    "            d['user_id'].append(3)\n",
    "            d['created_at'].append(\"2020-02-26 23:00:00+0\")\n",
    "            d['path'].append(f\"s3://climbicus-dev/route_images/dummy_data/gym_id=4/year=2020/month=02/{int(c) + 46 + 300}_{f}\")\n",
    "        d['model_version'].append('dummy_version')\n",
    "        des = gen_descriptor(orb, c, f, odd_data_path)\n",
    "        try:\n",
    "            des_json = json.dumps(des.tolist())\n",
    "        except AttributeError:\n",
    "            des_json = json.dumps(np.zeros((10, 32)).tolist())\n",
    "        d['descriptors'].append(des_json)\n",
    "        shutil.copyfile(category_path+f, f\"{dummy_data_path}/4/{int(c) + 46 + 300}_{f}\")"
   ]
  },
  {
   "cell_type": "code",
   "execution_count": 16,
   "metadata": {},
   "outputs": [],
   "source": [
    "df = pd.DataFrame.from_dict(d)"
   ]
  },
  {
   "cell_type": "code",
   "execution_count": 17,
   "metadata": {},
   "outputs": [
    {
     "data": {
      "text/plain": [
       "(781, 6)"
      ]
     },
     "execution_count": 17,
     "metadata": {},
     "output_type": "execute_result"
    }
   ],
   "source": [
    "df.shape"
   ]
  },
  {
   "cell_type": "code",
   "execution_count": 18,
   "metadata": {},
   "outputs": [
    {
     "data": {
      "text/plain": [
       "349"
      ]
     },
     "execution_count": 18,
     "metadata": {},
     "output_type": "execute_result"
    }
   ],
   "source": [
    "# 46 + 300 + 3 = 349\n",
    "df.route_id.nunique()"
   ]
  },
  {
   "cell_type": "code",
   "execution_count": 19,
   "metadata": {},
   "outputs": [
    {
     "data": {
      "text/html": [
       "<div>\n",
       "<style scoped>\n",
       "    .dataframe tbody tr th:only-of-type {\n",
       "        vertical-align: middle;\n",
       "    }\n",
       "\n",
       "    .dataframe tbody tr th {\n",
       "        vertical-align: top;\n",
       "    }\n",
       "\n",
       "    .dataframe thead th {\n",
       "        text-align: right;\n",
       "    }\n",
       "</style>\n",
       "<table border=\"1\" class=\"dataframe\">\n",
       "  <thead>\n",
       "    <tr style=\"text-align: right;\">\n",
       "      <th></th>\n",
       "      <th>route_id</th>\n",
       "      <th>user_id</th>\n",
       "      <th>model_version</th>\n",
       "      <th>path</th>\n",
       "      <th>created_at</th>\n",
       "      <th>descriptors</th>\n",
       "    </tr>\n",
       "  </thead>\n",
       "  <tbody>\n",
       "    <tr>\n",
       "      <th>0</th>\n",
       "      <td>1</td>\n",
       "      <td>1</td>\n",
       "      <td>dummy_version</td>\n",
       "      <td>s3://climbicus-dev/route_images/dummy_data/gym...</td>\n",
       "      <td>2020-02-15 09:00:00+0</td>\n",
       "      <td>[[18, 203, 70, 156, 113, 144, 184, 230, 157, 4...</td>\n",
       "    </tr>\n",
       "    <tr>\n",
       "      <th>1</th>\n",
       "      <td>1</td>\n",
       "      <td>1</td>\n",
       "      <td>dummy_version</td>\n",
       "      <td>s3://climbicus-dev/route_images/dummy_data/gym...</td>\n",
       "      <td>2020-02-15 09:00:00+0</td>\n",
       "      <td>[[50, 155, 75, 188, 116, 195, 90, 119, 133, 76...</td>\n",
       "    </tr>\n",
       "    <tr>\n",
       "      <th>2</th>\n",
       "      <td>1</td>\n",
       "      <td>1</td>\n",
       "      <td>dummy_version</td>\n",
       "      <td>s3://climbicus-dev/route_images/dummy_data/gym...</td>\n",
       "      <td>2020-02-15 09:00:00+0</td>\n",
       "      <td>[[231, 133, 204, 158, 136, 36, 78, 174, 147, 1...</td>\n",
       "    </tr>\n",
       "    <tr>\n",
       "      <th>3</th>\n",
       "      <td>1</td>\n",
       "      <td>1</td>\n",
       "      <td>dummy_version</td>\n",
       "      <td>s3://climbicus-dev/route_images/dummy_data/gym...</td>\n",
       "      <td>2020-02-15 09:00:00+0</td>\n",
       "      <td>[[95, 21, 35, 138, 173, 244, 75, 48, 37, 96, 1...</td>\n",
       "    </tr>\n",
       "    <tr>\n",
       "      <th>4</th>\n",
       "      <td>2</td>\n",
       "      <td>1</td>\n",
       "      <td>dummy_version</td>\n",
       "      <td>s3://climbicus-dev/route_images/dummy_data/gym...</td>\n",
       "      <td>2020-02-15 09:00:00+0</td>\n",
       "      <td>[[33, 232, 218, 86, 0, 113, 23, 99, 133, 6, 23...</td>\n",
       "    </tr>\n",
       "  </tbody>\n",
       "</table>\n",
       "</div>"
      ],
      "text/plain": [
       "  route_id  user_id  model_version  \\\n",
       "0        1        1  dummy_version   \n",
       "1        1        1  dummy_version   \n",
       "2        1        1  dummy_version   \n",
       "3        1        1  dummy_version   \n",
       "4        2        1  dummy_version   \n",
       "\n",
       "                                                path             created_at  \\\n",
       "0  s3://climbicus-dev/route_images/dummy_data/gym...  2020-02-15 09:00:00+0   \n",
       "1  s3://climbicus-dev/route_images/dummy_data/gym...  2020-02-15 09:00:00+0   \n",
       "2  s3://climbicus-dev/route_images/dummy_data/gym...  2020-02-15 09:00:00+0   \n",
       "3  s3://climbicus-dev/route_images/dummy_data/gym...  2020-02-15 09:00:00+0   \n",
       "4  s3://climbicus-dev/route_images/dummy_data/gym...  2020-02-15 09:00:00+0   \n",
       "\n",
       "                                         descriptors  \n",
       "0  [[18, 203, 70, 156, 113, 144, 184, 230, 157, 4...  \n",
       "1  [[50, 155, 75, 188, 116, 195, 90, 119, 133, 76...  \n",
       "2  [[231, 133, 204, 158, 136, 36, 78, 174, 147, 1...  \n",
       "3  [[95, 21, 35, 138, 173, 244, 75, 48, 37, 96, 1...  \n",
       "4  [[33, 232, 218, 86, 0, 113, 23, 99, 133, 6, 23...  "
      ]
     },
     "execution_count": 19,
     "metadata": {},
     "output_type": "execute_result"
    }
   ],
   "source": [
    "df.head()"
   ]
  },
  {
   "cell_type": "code",
   "execution_count": 29,
   "metadata": {},
   "outputs": [
    {
     "data": {
      "text/plain": [
       "'s3://climbicus-dev/route_images/dummy_data/gym_id=4/year=2020/month=02/349_IMG_20191215_092551.jpg'"
      ]
     },
     "execution_count": 29,
     "metadata": {},
     "output_type": "execute_result"
    }
   ],
   "source": [
    "df.iloc[-1].path"
   ]
  },
  {
   "cell_type": "code",
   "execution_count": 22,
   "metadata": {},
   "outputs": [],
   "source": [
    "df.to_csv('new_route_images.csv', index=False)"
   ]
  },
  {
   "cell_type": "markdown",
   "metadata": {},
   "source": [
    "#### Generating images to upload to S3 from route_images.csv with imagefile"
   ]
  },
  {
   "cell_type": "code",
   "execution_count": 139,
   "metadata": {},
   "outputs": [],
   "source": [
    "route_images = pd.read_csv('route_images_descriptors.csv')"
   ]
  },
  {
   "cell_type": "code",
   "execution_count": 140,
   "metadata": {},
   "outputs": [],
   "source": [
    "route_images['imagefilename'] = route_images.path.apply(lambda x: x.split('/')[8].replace('_IMG', '/IMG'))"
   ]
  },
  {
   "cell_type": "code",
   "execution_count": null,
   "metadata": {},
   "outputs": [],
   "source": [
    "import shutil, os\n",
    "dest = f\"data/upload/\"\n",
    "if not os.path.exists(dest):\n",
    "    os.mkdir(dest)\n",
    "origin = 'data/categories_castle_cafe/categories_blurred_photos_removed_small/'\n",
    "for _, row in route_images.iterrows():\n",
    "    filepath = row['imagefilename']\n",
    "    category = filepath.split('/')[0]\n",
    "    filename = filepath.split('/')[1]\n",
    "    shutil.copyfile(os.path.join(origin, filepath), \n",
    "                    os.path.join(dest, f'{category}_{filename}'))"
   ]
  }
 ],
 "metadata": {
  "kernelspec": {
   "display_name": "Python 3",
   "language": "python",
   "name": "python3"
  },
  "language_info": {
   "codemirror_mode": {
    "name": "ipython",
    "version": 3
   },
   "file_extension": ".py",
   "mimetype": "text/x-python",
   "name": "python",
   "nbconvert_exporter": "python",
   "pygments_lexer": "ipython3",
   "version": "3.6.8"
  }
 },
 "nbformat": 4,
 "nbformat_minor": 4
}
